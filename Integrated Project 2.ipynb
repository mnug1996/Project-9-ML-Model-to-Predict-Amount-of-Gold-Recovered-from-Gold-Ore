{
 "cells": [
  {
   "cell_type": "markdown",
   "metadata": {},
   "source": [
    "Hello, my name is Artem. I'm going to review your project!\n",
    "\n",
    "You can find my comments in <font color='green'>green</font>, <font color='blue'>blue</font> or <font color='red'>red</font> boxes like this:\n",
    "\n",
    "<div class=\"alert alert-block alert-success\">\n",
    "<b>Success:</b> if everything is done succesfully\n",
    "</div>\n",
    "\n",
    "<div class=\"alert alert-block alert-info\">\n",
    "<b>Improve: </b> \"Improve\" comments mean that there are tiny corrections that could help you to make your project better.\n",
    "</div>\n",
    "\n",
    "<div class=\"alert alert-block alert-danger\">\n",
    "<b>Needs fixing:</b> if the block requires some corrections. Work can't be accepted with the red comments.\n",
    "</div>\n",
    "\n",
    "### <font color='orange'>General feedback</font>\n",
    "* You've worked really hard and submitted a solid project.\n",
    "* Thank you for structuring the project. It's a pleasure to check such notebooks.\n",
    "* There are a couple of things that need to be done before your project is complete, but they're pretty straightforward.\n",
    "* While there's room for improvement, on the whole, your project is looking good.\n",
    "* I believe you can easily fix it! Good luck!"
   ]
  },
  {
   "cell_type": "markdown",
   "metadata": {},
   "source": [
    "### <font color='orange'>General feedback (review 2)</font>\n",
    "* New comments are marked with \"review 2\" keyword.\n",
    "\n",
    "### <font color='orange'>General feedback (review 3)</font>\n",
    "* New comment is marked with \"review 3\" keyword.\n",
    "\n",
    "### <font color='orange'>General feedback (review 4)</font>\n",
    "* New comment is marked with \"review 4\" keyword."
   ]
  },
  {
   "cell_type": "markdown",
   "metadata": {},
   "source": [
    "### <font color='orange'>General feedback (review 5)</font>\n",
    "* All your hard work has paid off, and now your project is perfect!\n",
    "* Keep up the good work. Good luck next!"
   ]
  },
  {
   "cell_type": "markdown",
   "metadata": {},
   "source": [
    "# Zyfra Mining: Machine Learning Analysis\n",
    "\n",
    "**The objective is to prepare a prototype of a machine learning model to predict the product yield of gold from gold ore. Zyfra develops efficiency solutions for heavy industry.**"
   ]
  },
  {
   "cell_type": "code",
   "execution_count": 1,
   "metadata": {},
   "outputs": [],
   "source": [
    "#place at the beginning\n",
    "def display_group_density_plot(df, groupby, on, palette = None, figsize = None, title=\"\", ax=None): \n",
    "    \"\"\"\n",
    "    Displays a density plot by group, given a continuous variable, and a group to split the data by\n",
    "    :param df: DataFrame to display data from\n",
    "    :param groupby: Column name by which plots would be grouped (Categorical, maximum 10 categories)\n",
    "    :param on: Column name of the different density plots\n",
    "    :param palette: Color palette to use for drawing\n",
    "    :param figsize: Figure size\n",
    "    :return: matplotlib.axes._subplots.AxesSubplot object\n",
    "    \"\"\"\n",
    "    if palette is None:\n",
    "      palette = sns.color_palette('Set2')\n",
    "    if figsize is None:\n",
    "      figsize = (10, 5)\n",
    "    if not isinstance(df, pd.core.frame.DataFrame):\n",
    "        raise ValueError('df must be a pandas DataFrame')\n",
    "\n",
    "    if not groupby:\n",
    "        raise ValueError('groupby parameter must be provided')\n",
    "\n",
    "    elif not groupby in df.keys():\n",
    "        raise ValueError(groupby + ' column does not exist in the given DataFrame')\n",
    "\n",
    "    if not on:\n",
    "        raise ValueError('on parameter must be provided')\n",
    "\n",
    "    elif not on in df.keys():\n",
    "        raise ValueError(on + ' column does not exist in the given DataFrame')\n",
    "\n",
    "    if len(set(df[groupby])) > 10:\n",
    "        groups = df[groupby].value_counts().index[:10]\n",
    "\n",
    "    else:\n",
    "        groups = set(df[groupby])\n",
    "\n",
    "    # Get relevant palette\n",
    "    if palette:\n",
    "        palette = palette[:len(groups)]\n",
    "    else:\n",
    "        palette = sns.color_palette()[:len(groups)]\n",
    "\n",
    "    if ax is None:\n",
    "      fig = plt.figure(figsize=figsize)\n",
    "      ax = fig.add_subplot(111)\n",
    "    \n",
    "    ax.legend(bbox_to_anchor=(1.04, 1), loc='upper left')\n",
    "    for value, color in zip(groups, palette):\n",
    "        sns.kdeplot(df.loc[df[groupby] == value][on], \\\n",
    "                    shade=True, color=color, label=value, ax=ax)\n",
    "    if not title:\n",
    "      title = str(\"Distribution of \" + on + \" per \" + groupby + \" group\")\n",
    "    \n",
    "    ax.set_title(title,fontsize=16)\n",
    "    ax.set_xlabel(on, fontsize=16)\n",
    "    return ax "
   ]
  },
  {
   "cell_type": "code",
   "execution_count": 2,
   "metadata": {},
   "outputs": [],
   "source": [
    "import numpy as np\n",
    "import pandas as pd\n",
    "from sklearn.model_selection import *\n",
    "from sklearn.ensemble import *\n",
    "from sklearn.tree import *\n",
    "from sklearn.linear_model import *\n",
    "from sklearn.metrics import *\n",
    "from sklearn.utils import shuffle\n",
    "from sklearn.dummy import DummyRegressor\n",
    "\n",
    "import seaborn as sns\n",
    "import matplotlib.pyplot as plt\n",
    "%matplotlib inline\n",
    "\n",
    "import random\n",
    "random_state=42\n",
    "random.seed(random_state)\n",
    "np.random.seed(random_state)\n",
    "\n",
    "import warnings\n",
    "warnings.filterwarnings('ignore')\n",
    "import logging\n",
    "logger = logging.getLogger()\n",
    "logger.setLevel(logging.CRITICAL)"
   ]
  },
  {
   "cell_type": "markdown",
   "metadata": {},
   "source": [
    "<div class=\"alert alert-block alert-success\">\n",
    "<b>Success:</b> Thank you for collecting all imports in the first cell!\n",
    "</div>"
   ]
  },
  {
   "cell_type": "code",
   "execution_count": 3,
   "metadata": {},
   "outputs": [],
   "source": [
    "pd.set_option('display.max_rows', 100)\n",
    "pd.set_option('display.max_columns', 100)"
   ]
  },
  {
   "cell_type": "markdown",
   "metadata": {},
   "source": [
    "Project description\n",
    "\n",
    "The data is stored in three files:\n",
    "gold_recovery_train.csv — training dataset download\n",
    "gold_recovery_test.csv — test dataset download\n",
    "gold_recovery_full.csv — source dataset download\n",
    "\n",
    "Data is indexed with the date and time of acquisition (date feature). Parameters that are next to each other in terms of time are often similar.\n",
    "Some parameters are not available because they were measured and/or calculated much later. That's why, some of the features that are present in the training set may be absent from the test set. The test set also doesn't contain targets.\n",
    "\n",
    "The source dataset contains the training and test sets with all the features.\n",
    "You have the raw data that was only downloaded from the warehouse. Before building the model, check the correctness of the data. For that, use our instructions."
   ]
  },
  {
   "cell_type": "markdown",
   "metadata": {},
   "source": [
    "Data description\n",
    "Technological process:\n",
    "\n",
    "Rougher feed — raw material\n",
    "Rougher additions (or reagent additions) — flotation reagents: Xanthate, Sulphate, Depressant\n",
    "Xanthate — promoter or flotation activator;\n",
    "Sulphate — sodium sulphide for this particular process;\n",
    "Depressant — sodium silicate.\n",
    "Rougher process — flotation\n",
    "Rougher tails — product residues\n",
    "Float banks — flotation unit\n",
    "Cleaner process — purification\n",
    "Rougher Au — rougher gold concentrate\n",
    "Final Au — final gold concentrate\n",
    "Parameters of stages\n",
    "air amount — volume of air\n",
    "fluid levels\n",
    "feed size — feed particle size\n",
    "feed rate\n",
    "\n",
    "Feature naming\n",
    "Here's how you name the features:\n",
    "[stage].[parameter_type].[parameter_name]\n",
    "\n",
    "Example: rougher.input.feed_ag\n",
    "Possible values for [stage]:\n",
    "rougher — flotation\n",
    "primary_cleaner — primary purification\n",
    "secondary_cleaner — secondary purification\n",
    "final — final characteristics\n",
    "Possible values for [parameter_type]:\n",
    "input — raw material parameters\n",
    "output — product parameters\n",
    "state — parameters characterizing the current state of the stage\n",
    "calculation — calculation characteristics"
   ]
  },
  {
   "cell_type": "code",
   "execution_count": 4,
   "metadata": {},
   "outputs": [],
   "source": [
    "#missing value ratio\n",
    "def missing_values(df):\n",
    "    df_nulls=pd.concat([df.dtypes, df.isna().sum(), df.isna().sum()/len(df)], axis=1)\n",
    "    df_nulls.columns = [\"type\",\"count\",\"missing_ratio\"]\n",
    "    df_nulls=df_nulls[df_nulls[\"count\"]>0]\n",
    "    df_nulls.sort_values(by=\"missing_ratio\", ascending=False)\n",
    "    return df_nulls\n",
    "\n",
    "#outliers by 3 sigma rule\n",
    "def outlier(data):\n",
    "    data_mean, data_std = np.mean(data), np.std(data)\n",
    "    cut_off = data_std * 3\n",
    "    lower, upper = data_mean - cut_off, data_mean + cut_off\n",
    "    outliers = [x for x in data if x < lower or x > upper]\n",
    "    outliers_removed = [x for x in data if x >= lower and x <= upper]\n",
    "    return len(outliers)\n",
    "\n",
    "# full description statistics \n",
    "def describe_full(df, target_name=\"\"):\n",
    "    data_describe = df.describe().T\n",
    "    df_numeric = df._get_numeric_data()\n",
    "    if target_name in df.columns:\n",
    "        corr_with_target=df_numeric.drop(target_name, axis=1).apply(lambda x: x.corr(df_numeric[target_name]))\n",
    "        data_describe['corr_with_target']=corr_with_target\n",
    "    dtype_df = df_numeric.dtypes\n",
    "    data_describe['dtypes'] = dtype_df\n",
    "    data_null = df_numeric.isnull().sum()/len(df) * 100\n",
    "    data_describe['Missing %'] = data_null\n",
    "    Cardinality = df_numeric.apply(pd.Series.nunique)\n",
    "    data_describe['Cardinality'] = Cardinality\n",
    "    df_skew = df_numeric.skew(axis=0, skipna=True)\n",
    "    data_describe['Skew'] = df_skew\n",
    "    data_describe['outliers']=[outlier(df_numeric[col]) for col in df_numeric.columns]\n",
    "    data_describe['kurtosis']=df_numeric.kurtosis()\n",
    "    return data_describe"
   ]
  },
  {
   "cell_type": "markdown",
   "metadata": {},
   "source": [
    "## Prepare the data"
   ]
  },
  {
   "cell_type": "markdown",
   "metadata": {},
   "source": [
    "### Download and read the data"
   ]
  },
  {
   "cell_type": "code",
   "execution_count": 5,
   "metadata": {},
   "outputs": [],
   "source": [
    "df_train = pd.read_csv(\"https://code.s3.yandex.net/datasets/gold_recovery_train.csv\")\n",
    "df_test = pd.read_csv(\"https://code.s3.yandex.net/datasets/gold_recovery_test.csv\")\n",
    "df_full = pd.read_csv(\"https://code.s3.yandex.net/datasets/gold_recovery_full.csv\")"
   ]
  },
  {
   "cell_type": "code",
   "execution_count": 6,
   "metadata": {
    "scrolled": true
   },
   "outputs": [
    {
     "name": "stdout",
     "output_type": "stream",
     "text": [
      "<class 'pandas.core.frame.DataFrame'>\n",
      "RangeIndex: 22716 entries, 0 to 22715\n",
      "Data columns (total 87 columns):\n",
      "date                                                  22716 non-null object\n",
      "final.output.concentrate_ag                           22627 non-null float64\n",
      "final.output.concentrate_pb                           22629 non-null float64\n",
      "final.output.concentrate_sol                          22331 non-null float64\n",
      "final.output.concentrate_au                           22630 non-null float64\n",
      "final.output.recovery                                 20753 non-null float64\n",
      "final.output.tail_ag                                  22633 non-null float64\n",
      "final.output.tail_pb                                  22516 non-null float64\n",
      "final.output.tail_sol                                 22445 non-null float64\n",
      "final.output.tail_au                                  22635 non-null float64\n",
      "primary_cleaner.input.sulfate                         21107 non-null float64\n",
      "primary_cleaner.input.depressant                      21170 non-null float64\n",
      "primary_cleaner.input.feed_size                       22716 non-null float64\n",
      "primary_cleaner.input.xanthate                        21565 non-null float64\n",
      "primary_cleaner.output.concentrate_ag                 22618 non-null float64\n",
      "primary_cleaner.output.concentrate_pb                 22268 non-null float64\n",
      "primary_cleaner.output.concentrate_sol                21918 non-null float64\n",
      "primary_cleaner.output.concentrate_au                 22618 non-null float64\n",
      "primary_cleaner.output.tail_ag                        22614 non-null float64\n",
      "primary_cleaner.output.tail_pb                        22594 non-null float64\n",
      "primary_cleaner.output.tail_sol                       22365 non-null float64\n",
      "primary_cleaner.output.tail_au                        22617 non-null float64\n",
      "primary_cleaner.state.floatbank8_a_air                22660 non-null float64\n",
      "primary_cleaner.state.floatbank8_a_level              22667 non-null float64\n",
      "primary_cleaner.state.floatbank8_b_air                22660 non-null float64\n",
      "primary_cleaner.state.floatbank8_b_level              22673 non-null float64\n",
      "primary_cleaner.state.floatbank8_c_air                22662 non-null float64\n",
      "primary_cleaner.state.floatbank8_c_level              22673 non-null float64\n",
      "primary_cleaner.state.floatbank8_d_air                22661 non-null float64\n",
      "primary_cleaner.state.floatbank8_d_level              22673 non-null float64\n",
      "rougher.calculation.sulfate_to_au_concentrate         22672 non-null float64\n",
      "rougher.calculation.floatbank10_sulfate_to_au_feed    22672 non-null float64\n",
      "rougher.calculation.floatbank11_sulfate_to_au_feed    22672 non-null float64\n",
      "rougher.calculation.au_pb_ratio                       21089 non-null float64\n",
      "rougher.input.feed_ag                                 22618 non-null float64\n",
      "rougher.input.feed_pb                                 22472 non-null float64\n",
      "rougher.input.feed_rate                               22163 non-null float64\n",
      "rougher.input.feed_size                               22277 non-null float64\n",
      "rougher.input.feed_sol                                22357 non-null float64\n",
      "rougher.input.feed_au                                 22617 non-null float64\n",
      "rougher.input.floatbank10_sulfate                     21415 non-null float64\n",
      "rougher.input.floatbank10_xanthate                    22247 non-null float64\n",
      "rougher.input.floatbank11_sulfate                     22038 non-null float64\n",
      "rougher.input.floatbank11_xanthate                    20459 non-null float64\n",
      "rougher.output.concentrate_ag                         22618 non-null float64\n",
      "rougher.output.concentrate_pb                         22618 non-null float64\n",
      "rougher.output.concentrate_sol                        22526 non-null float64\n",
      "rougher.output.concentrate_au                         22618 non-null float64\n",
      "rougher.output.recovery                               19597 non-null float64\n",
      "rougher.output.tail_ag                                19979 non-null float64\n",
      "rougher.output.tail_pb                                22618 non-null float64\n",
      "rougher.output.tail_sol                               19980 non-null float64\n",
      "rougher.output.tail_au                                19980 non-null float64\n",
      "rougher.state.floatbank10_a_air                       22646 non-null float64\n",
      "rougher.state.floatbank10_a_level                     22647 non-null float64\n",
      "rougher.state.floatbank10_b_air                       22646 non-null float64\n",
      "rougher.state.floatbank10_b_level                     22647 non-null float64\n",
      "rougher.state.floatbank10_c_air                       22646 non-null float64\n",
      "rougher.state.floatbank10_c_level                     22654 non-null float64\n",
      "rougher.state.floatbank10_d_air                       22641 non-null float64\n",
      "rougher.state.floatbank10_d_level                     22649 non-null float64\n",
      "rougher.state.floatbank10_e_air                       22096 non-null float64\n",
      "rougher.state.floatbank10_e_level                     22649 non-null float64\n",
      "rougher.state.floatbank10_f_air                       22641 non-null float64\n",
      "rougher.state.floatbank10_f_level                     22642 non-null float64\n",
      "secondary_cleaner.output.tail_ag                      22616 non-null float64\n",
      "secondary_cleaner.output.tail_pb                      22600 non-null float64\n",
      "secondary_cleaner.output.tail_sol                     20501 non-null float64\n",
      "secondary_cleaner.output.tail_au                      22618 non-null float64\n",
      "secondary_cleaner.state.floatbank2_a_air              22333 non-null float64\n",
      "secondary_cleaner.state.floatbank2_a_level            22591 non-null float64\n",
      "secondary_cleaner.state.floatbank2_b_air              22538 non-null float64\n",
      "secondary_cleaner.state.floatbank2_b_level            22588 non-null float64\n",
      "secondary_cleaner.state.floatbank3_a_air              22585 non-null float64\n",
      "secondary_cleaner.state.floatbank3_a_level            22587 non-null float64\n",
      "secondary_cleaner.state.floatbank3_b_air              22592 non-null float64\n",
      "secondary_cleaner.state.floatbank3_b_level            22590 non-null float64\n",
      "secondary_cleaner.state.floatbank4_a_air              22571 non-null float64\n",
      "secondary_cleaner.state.floatbank4_a_level            22587 non-null float64\n",
      "secondary_cleaner.state.floatbank4_b_air              22608 non-null float64\n",
      "secondary_cleaner.state.floatbank4_b_level            22607 non-null float64\n",
      "secondary_cleaner.state.floatbank5_a_air              22615 non-null float64\n",
      "secondary_cleaner.state.floatbank5_a_level            22615 non-null float64\n",
      "secondary_cleaner.state.floatbank5_b_air              22615 non-null float64\n",
      "secondary_cleaner.state.floatbank5_b_level            22616 non-null float64\n",
      "secondary_cleaner.state.floatbank6_a_air              22597 non-null float64\n",
      "secondary_cleaner.state.floatbank6_a_level            22615 non-null float64\n",
      "dtypes: float64(86), object(1)\n",
      "memory usage: 15.1+ MB\n"
     ]
    }
   ],
   "source": [
    "df_full.info()"
   ]
  },
  {
   "cell_type": "markdown",
   "metadata": {},
   "source": [
    "<div class=\"alert alert-block alert-success\">\n",
    "<b>Success:</b> Data loading was done well!\n",
    "</div>"
   ]
  },
  {
   "cell_type": "markdown",
   "metadata": {},
   "source": [
    "### Check that recovery is calculated correctly. Using the training set, calculate recovery for the rougher.output.recovery feature. Find the MAE between your calculations and the feature values. Provide findings.\n",
    "\n",
    "**Reminder of the rougher process**\n",
    "\n",
    "Rougher feed — raw material Rougher additions (or reagent additions) — flotation reagents: Xanthate, Sulphate, Depressant Xanthate — promoter or flotation activator; Sulphate — sodium sulphide for this particular process; Depressant — sodium silicate. \n",
    "\n",
    "Rougher process — flotation Rougher tails — product residues Float banks — flotation unit Cleaner process — purification Rougher Au — rougher gold concentrate Final Au — final gold concentrate Parameters of stages air amount — volume of air fluid levels feed size — feed particle size feed rate"
   ]
  },
  {
   "cell_type": "code",
   "execution_count": 7,
   "metadata": {
    "scrolled": true
   },
   "outputs": [
    {
     "data": {
      "text/plain": [
       "['rougher.calculation.sulfate_to_au_concentrate',\n",
       " 'rougher.calculation.floatbank10_sulfate_to_au_feed',\n",
       " 'rougher.calculation.floatbank11_sulfate_to_au_feed',\n",
       " 'rougher.calculation.au_pb_ratio',\n",
       " 'rougher.input.feed_ag',\n",
       " 'rougher.input.feed_pb',\n",
       " 'rougher.input.feed_rate',\n",
       " 'rougher.input.feed_size',\n",
       " 'rougher.input.feed_sol',\n",
       " 'rougher.input.feed_au',\n",
       " 'rougher.input.floatbank10_sulfate',\n",
       " 'rougher.input.floatbank10_xanthate',\n",
       " 'rougher.input.floatbank11_sulfate',\n",
       " 'rougher.input.floatbank11_xanthate',\n",
       " 'rougher.output.concentrate_ag',\n",
       " 'rougher.output.concentrate_pb',\n",
       " 'rougher.output.concentrate_sol',\n",
       " 'rougher.output.concentrate_au',\n",
       " 'rougher.output.recovery',\n",
       " 'rougher.output.tail_ag',\n",
       " 'rougher.output.tail_pb',\n",
       " 'rougher.output.tail_sol',\n",
       " 'rougher.output.tail_au',\n",
       " 'rougher.state.floatbank10_a_air',\n",
       " 'rougher.state.floatbank10_a_level',\n",
       " 'rougher.state.floatbank10_b_air',\n",
       " 'rougher.state.floatbank10_b_level',\n",
       " 'rougher.state.floatbank10_c_air',\n",
       " 'rougher.state.floatbank10_c_level',\n",
       " 'rougher.state.floatbank10_d_air',\n",
       " 'rougher.state.floatbank10_d_level',\n",
       " 'rougher.state.floatbank10_e_air',\n",
       " 'rougher.state.floatbank10_e_level',\n",
       " 'rougher.state.floatbank10_f_air',\n",
       " 'rougher.state.floatbank10_f_level']"
      ]
     },
     "execution_count": 7,
     "metadata": {},
     "output_type": "execute_result"
    }
   ],
   "source": [
    "#filtering for rougher \n",
    "list(filter(lambda s:\"rougher\" in s,df_train.columns))"
   ]
  },
  {
   "cell_type": "code",
   "execution_count": 8,
   "metadata": {},
   "outputs": [
    {
     "data": {
      "text/plain": [
       "0    19.793808\n",
       "1    20.050975\n",
       "2    19.737170\n",
       "3    19.320810\n",
       "4    19.216101\n",
       "Name: rougher.output.concentrate_au, dtype: float64"
      ]
     },
     "metadata": {},
     "output_type": "display_data"
    },
    {
     "data": {
      "text/plain": [
       "0    6.486150\n",
       "1    6.478583\n",
       "2    6.362222\n",
       "3    6.118189\n",
       "4    5.663707\n",
       "Name: rougher.input.feed_au, dtype: float64"
      ]
     },
     "metadata": {},
     "output_type": "display_data"
    },
    {
     "data": {
      "text/plain": [
       "0    1.170244\n",
       "1    1.184827\n",
       "2    1.162562\n",
       "3    1.079755\n",
       "4    1.012642\n",
       "Name: rougher.output.tail_au, dtype: float64"
      ]
     },
     "metadata": {},
     "output_type": "display_data"
    }
   ],
   "source": [
    "display(df_train['rougher.output.concentrate_au'].head(),\n",
    "       df_train['rougher.input.feed_au'].head(),\n",
    "       df_train['rougher.output.tail_au'].head(),\n",
    "       )"
   ]
  },
  {
   "cell_type": "code",
   "execution_count": 9,
   "metadata": {},
   "outputs": [
    {
     "data": {
      "text/plain": [
       "0    87.107763\n",
       "1    86.843261\n",
       "2    86.842308\n",
       "3    87.226430\n",
       "4    86.688794\n",
       "dtype: float64"
      ]
     },
     "execution_count": 9,
     "metadata": {},
     "output_type": "execute_result"
    }
   ],
   "source": [
    "#Calculation: train set -- (100 * au__conc_out * au_input - out_tail_au) / ((au_input * au_conc_out) - au_output)\n",
    "\n",
    "rougher_output_recovery_calc = (100 * (df_train['rougher.output.concentrate_au'] * \n",
    "                                      (df_train['rougher.input.feed_au'] - df_train['rougher.output.tail_au'])) / \n",
    "                                (df_train['rougher.input.feed_au'] * (df_train['rougher.output.concentrate_au'] \n",
    "                                                                      - df_train['rougher.output.tail_au'])))\n",
    "\n",
    "rougher_output_recovery_calc.head()"
   ]
  },
  {
   "cell_type": "code",
   "execution_count": 10,
   "metadata": {},
   "outputs": [
    {
     "name": "stdout",
     "output_type": "stream",
     "text": [
      "MAE = 1.0898633667227423e-14\n",
      "   output_recovery       calc\n",
      "0        87.107763  87.107763\n",
      "1        86.843261  86.843261\n",
      "2        86.842308  86.842308\n",
      "3        87.226430  87.226430\n",
      "4        86.688794  86.688794\n"
     ]
    }
   ],
   "source": [
    "df_output_rougher = pd.DataFrame({\"output_recovery\":df_train[\"rougher.output.recovery\"],\n",
    "                                  \"calc\":rougher_output_recovery_calc}).dropna()\n",
    "\n",
    "MAE = mean_absolute_error(df_output_rougher[\"output_recovery\"],df_output_rougher[\"calc\"])\n",
    "\n",
    "print('MAE =', MAE)\n",
    "print(df_output_rougher.head())"
   ]
  },
  {
   "cell_type": "markdown",
   "metadata": {},
   "source": [
    "#### Validating Recovery Output\n",
    "\n",
    "1) The MAE for the comparison between the calculated and provided recovery values shows that the results are the same\n",
    "\n",
    "2) The first five rows of both results show how identical the results are "
   ]
  },
  {
   "cell_type": "markdown",
   "metadata": {},
   "source": [
    "<div class=\"alert alert-block alert-success\">\n",
    "<b>Success:</b> This check was done absolutely right!\n",
    "</div>"
   ]
  },
  {
   "cell_type": "markdown",
   "metadata": {},
   "source": [
    "### Analyze the features not available in the test set. What are these parameters? What is their type?"
   ]
  },
  {
   "cell_type": "code",
   "execution_count": 11,
   "metadata": {
    "scrolled": true
   },
   "outputs": [
    {
     "data": {
      "text/html": [
       "<div>\n",
       "<style scoped>\n",
       "    .dataframe tbody tr th:only-of-type {\n",
       "        vertical-align: middle;\n",
       "    }\n",
       "\n",
       "    .dataframe tbody tr th {\n",
       "        vertical-align: top;\n",
       "    }\n",
       "\n",
       "    .dataframe thead th {\n",
       "        text-align: right;\n",
       "    }\n",
       "</style>\n",
       "<table border=\"1\" class=\"dataframe\">\n",
       "  <thead>\n",
       "    <tr style=\"text-align: right;\">\n",
       "      <th></th>\n",
       "      <th>name</th>\n",
       "      <th>type</th>\n",
       "    </tr>\n",
       "  </thead>\n",
       "  <tbody>\n",
       "    <tr>\n",
       "      <td>0</td>\n",
       "      <td>date</td>\n",
       "      <td>object</td>\n",
       "    </tr>\n",
       "    <tr>\n",
       "      <td>1</td>\n",
       "      <td>final.output.concentrate_ag</td>\n",
       "      <td>float64</td>\n",
       "    </tr>\n",
       "    <tr>\n",
       "      <td>2</td>\n",
       "      <td>final.output.concentrate_pb</td>\n",
       "      <td>float64</td>\n",
       "    </tr>\n",
       "    <tr>\n",
       "      <td>3</td>\n",
       "      <td>final.output.concentrate_sol</td>\n",
       "      <td>float64</td>\n",
       "    </tr>\n",
       "    <tr>\n",
       "      <td>4</td>\n",
       "      <td>final.output.concentrate_au</td>\n",
       "      <td>float64</td>\n",
       "    </tr>\n",
       "    <tr>\n",
       "      <td>5</td>\n",
       "      <td>final.output.recovery</td>\n",
       "      <td>float64</td>\n",
       "    </tr>\n",
       "    <tr>\n",
       "      <td>6</td>\n",
       "      <td>final.output.tail_ag</td>\n",
       "      <td>float64</td>\n",
       "    </tr>\n",
       "    <tr>\n",
       "      <td>7</td>\n",
       "      <td>final.output.tail_pb</td>\n",
       "      <td>float64</td>\n",
       "    </tr>\n",
       "    <tr>\n",
       "      <td>8</td>\n",
       "      <td>final.output.tail_sol</td>\n",
       "      <td>float64</td>\n",
       "    </tr>\n",
       "    <tr>\n",
       "      <td>9</td>\n",
       "      <td>final.output.tail_au</td>\n",
       "      <td>float64</td>\n",
       "    </tr>\n",
       "    <tr>\n",
       "      <td>10</td>\n",
       "      <td>primary_cleaner.input.sulfate</td>\n",
       "      <td>float64</td>\n",
       "    </tr>\n",
       "    <tr>\n",
       "      <td>11</td>\n",
       "      <td>primary_cleaner.input.depressant</td>\n",
       "      <td>float64</td>\n",
       "    </tr>\n",
       "    <tr>\n",
       "      <td>12</td>\n",
       "      <td>primary_cleaner.input.feed_size</td>\n",
       "      <td>float64</td>\n",
       "    </tr>\n",
       "    <tr>\n",
       "      <td>13</td>\n",
       "      <td>primary_cleaner.input.xanthate</td>\n",
       "      <td>float64</td>\n",
       "    </tr>\n",
       "    <tr>\n",
       "      <td>14</td>\n",
       "      <td>primary_cleaner.output.concentrate_ag</td>\n",
       "      <td>float64</td>\n",
       "    </tr>\n",
       "    <tr>\n",
       "      <td>15</td>\n",
       "      <td>primary_cleaner.output.concentrate_pb</td>\n",
       "      <td>float64</td>\n",
       "    </tr>\n",
       "    <tr>\n",
       "      <td>16</td>\n",
       "      <td>primary_cleaner.output.concentrate_sol</td>\n",
       "      <td>float64</td>\n",
       "    </tr>\n",
       "    <tr>\n",
       "      <td>17</td>\n",
       "      <td>primary_cleaner.output.concentrate_au</td>\n",
       "      <td>float64</td>\n",
       "    </tr>\n",
       "    <tr>\n",
       "      <td>18</td>\n",
       "      <td>primary_cleaner.output.tail_ag</td>\n",
       "      <td>float64</td>\n",
       "    </tr>\n",
       "    <tr>\n",
       "      <td>19</td>\n",
       "      <td>primary_cleaner.output.tail_pb</td>\n",
       "      <td>float64</td>\n",
       "    </tr>\n",
       "    <tr>\n",
       "      <td>20</td>\n",
       "      <td>primary_cleaner.output.tail_sol</td>\n",
       "      <td>float64</td>\n",
       "    </tr>\n",
       "    <tr>\n",
       "      <td>21</td>\n",
       "      <td>primary_cleaner.output.tail_au</td>\n",
       "      <td>float64</td>\n",
       "    </tr>\n",
       "    <tr>\n",
       "      <td>22</td>\n",
       "      <td>primary_cleaner.state.floatbank8_a_air</td>\n",
       "      <td>float64</td>\n",
       "    </tr>\n",
       "    <tr>\n",
       "      <td>23</td>\n",
       "      <td>primary_cleaner.state.floatbank8_a_level</td>\n",
       "      <td>float64</td>\n",
       "    </tr>\n",
       "    <tr>\n",
       "      <td>24</td>\n",
       "      <td>primary_cleaner.state.floatbank8_b_air</td>\n",
       "      <td>float64</td>\n",
       "    </tr>\n",
       "    <tr>\n",
       "      <td>25</td>\n",
       "      <td>primary_cleaner.state.floatbank8_b_level</td>\n",
       "      <td>float64</td>\n",
       "    </tr>\n",
       "    <tr>\n",
       "      <td>26</td>\n",
       "      <td>primary_cleaner.state.floatbank8_c_air</td>\n",
       "      <td>float64</td>\n",
       "    </tr>\n",
       "    <tr>\n",
       "      <td>27</td>\n",
       "      <td>primary_cleaner.state.floatbank8_c_level</td>\n",
       "      <td>float64</td>\n",
       "    </tr>\n",
       "    <tr>\n",
       "      <td>28</td>\n",
       "      <td>primary_cleaner.state.floatbank8_d_air</td>\n",
       "      <td>float64</td>\n",
       "    </tr>\n",
       "    <tr>\n",
       "      <td>29</td>\n",
       "      <td>primary_cleaner.state.floatbank8_d_level</td>\n",
       "      <td>float64</td>\n",
       "    </tr>\n",
       "    <tr>\n",
       "      <td>30</td>\n",
       "      <td>rougher.calculation.sulfate_to_au_concentrate</td>\n",
       "      <td>float64</td>\n",
       "    </tr>\n",
       "    <tr>\n",
       "      <td>31</td>\n",
       "      <td>rougher.calculation.floatbank10_sulfate_to_au_...</td>\n",
       "      <td>float64</td>\n",
       "    </tr>\n",
       "    <tr>\n",
       "      <td>32</td>\n",
       "      <td>rougher.calculation.floatbank11_sulfate_to_au_...</td>\n",
       "      <td>float64</td>\n",
       "    </tr>\n",
       "    <tr>\n",
       "      <td>33</td>\n",
       "      <td>rougher.calculation.au_pb_ratio</td>\n",
       "      <td>float64</td>\n",
       "    </tr>\n",
       "    <tr>\n",
       "      <td>34</td>\n",
       "      <td>rougher.input.feed_ag</td>\n",
       "      <td>float64</td>\n",
       "    </tr>\n",
       "    <tr>\n",
       "      <td>35</td>\n",
       "      <td>rougher.input.feed_pb</td>\n",
       "      <td>float64</td>\n",
       "    </tr>\n",
       "    <tr>\n",
       "      <td>36</td>\n",
       "      <td>rougher.input.feed_rate</td>\n",
       "      <td>float64</td>\n",
       "    </tr>\n",
       "    <tr>\n",
       "      <td>37</td>\n",
       "      <td>rougher.input.feed_size</td>\n",
       "      <td>float64</td>\n",
       "    </tr>\n",
       "    <tr>\n",
       "      <td>38</td>\n",
       "      <td>rougher.input.feed_sol</td>\n",
       "      <td>float64</td>\n",
       "    </tr>\n",
       "    <tr>\n",
       "      <td>39</td>\n",
       "      <td>rougher.input.feed_au</td>\n",
       "      <td>float64</td>\n",
       "    </tr>\n",
       "    <tr>\n",
       "      <td>40</td>\n",
       "      <td>rougher.input.floatbank10_sulfate</td>\n",
       "      <td>float64</td>\n",
       "    </tr>\n",
       "    <tr>\n",
       "      <td>41</td>\n",
       "      <td>rougher.input.floatbank10_xanthate</td>\n",
       "      <td>float64</td>\n",
       "    </tr>\n",
       "    <tr>\n",
       "      <td>42</td>\n",
       "      <td>rougher.input.floatbank11_sulfate</td>\n",
       "      <td>float64</td>\n",
       "    </tr>\n",
       "    <tr>\n",
       "      <td>43</td>\n",
       "      <td>rougher.input.floatbank11_xanthate</td>\n",
       "      <td>float64</td>\n",
       "    </tr>\n",
       "    <tr>\n",
       "      <td>44</td>\n",
       "      <td>rougher.output.concentrate_ag</td>\n",
       "      <td>float64</td>\n",
       "    </tr>\n",
       "    <tr>\n",
       "      <td>45</td>\n",
       "      <td>rougher.output.concentrate_pb</td>\n",
       "      <td>float64</td>\n",
       "    </tr>\n",
       "    <tr>\n",
       "      <td>46</td>\n",
       "      <td>rougher.output.concentrate_sol</td>\n",
       "      <td>float64</td>\n",
       "    </tr>\n",
       "    <tr>\n",
       "      <td>47</td>\n",
       "      <td>rougher.output.concentrate_au</td>\n",
       "      <td>float64</td>\n",
       "    </tr>\n",
       "    <tr>\n",
       "      <td>48</td>\n",
       "      <td>rougher.output.recovery</td>\n",
       "      <td>float64</td>\n",
       "    </tr>\n",
       "    <tr>\n",
       "      <td>49</td>\n",
       "      <td>rougher.output.tail_ag</td>\n",
       "      <td>float64</td>\n",
       "    </tr>\n",
       "    <tr>\n",
       "      <td>50</td>\n",
       "      <td>rougher.output.tail_pb</td>\n",
       "      <td>float64</td>\n",
       "    </tr>\n",
       "    <tr>\n",
       "      <td>51</td>\n",
       "      <td>rougher.output.tail_sol</td>\n",
       "      <td>float64</td>\n",
       "    </tr>\n",
       "    <tr>\n",
       "      <td>52</td>\n",
       "      <td>rougher.output.tail_au</td>\n",
       "      <td>float64</td>\n",
       "    </tr>\n",
       "    <tr>\n",
       "      <td>53</td>\n",
       "      <td>rougher.state.floatbank10_a_air</td>\n",
       "      <td>float64</td>\n",
       "    </tr>\n",
       "    <tr>\n",
       "      <td>54</td>\n",
       "      <td>rougher.state.floatbank10_a_level</td>\n",
       "      <td>float64</td>\n",
       "    </tr>\n",
       "    <tr>\n",
       "      <td>55</td>\n",
       "      <td>rougher.state.floatbank10_b_air</td>\n",
       "      <td>float64</td>\n",
       "    </tr>\n",
       "    <tr>\n",
       "      <td>56</td>\n",
       "      <td>rougher.state.floatbank10_b_level</td>\n",
       "      <td>float64</td>\n",
       "    </tr>\n",
       "    <tr>\n",
       "      <td>57</td>\n",
       "      <td>rougher.state.floatbank10_c_air</td>\n",
       "      <td>float64</td>\n",
       "    </tr>\n",
       "    <tr>\n",
       "      <td>58</td>\n",
       "      <td>rougher.state.floatbank10_c_level</td>\n",
       "      <td>float64</td>\n",
       "    </tr>\n",
       "    <tr>\n",
       "      <td>59</td>\n",
       "      <td>rougher.state.floatbank10_d_air</td>\n",
       "      <td>float64</td>\n",
       "    </tr>\n",
       "    <tr>\n",
       "      <td>60</td>\n",
       "      <td>rougher.state.floatbank10_d_level</td>\n",
       "      <td>float64</td>\n",
       "    </tr>\n",
       "    <tr>\n",
       "      <td>61</td>\n",
       "      <td>rougher.state.floatbank10_e_air</td>\n",
       "      <td>float64</td>\n",
       "    </tr>\n",
       "    <tr>\n",
       "      <td>62</td>\n",
       "      <td>rougher.state.floatbank10_e_level</td>\n",
       "      <td>float64</td>\n",
       "    </tr>\n",
       "    <tr>\n",
       "      <td>63</td>\n",
       "      <td>rougher.state.floatbank10_f_air</td>\n",
       "      <td>float64</td>\n",
       "    </tr>\n",
       "    <tr>\n",
       "      <td>64</td>\n",
       "      <td>rougher.state.floatbank10_f_level</td>\n",
       "      <td>float64</td>\n",
       "    </tr>\n",
       "    <tr>\n",
       "      <td>65</td>\n",
       "      <td>secondary_cleaner.output.tail_ag</td>\n",
       "      <td>float64</td>\n",
       "    </tr>\n",
       "    <tr>\n",
       "      <td>66</td>\n",
       "      <td>secondary_cleaner.output.tail_pb</td>\n",
       "      <td>float64</td>\n",
       "    </tr>\n",
       "    <tr>\n",
       "      <td>67</td>\n",
       "      <td>secondary_cleaner.output.tail_sol</td>\n",
       "      <td>float64</td>\n",
       "    </tr>\n",
       "    <tr>\n",
       "      <td>68</td>\n",
       "      <td>secondary_cleaner.output.tail_au</td>\n",
       "      <td>float64</td>\n",
       "    </tr>\n",
       "    <tr>\n",
       "      <td>69</td>\n",
       "      <td>secondary_cleaner.state.floatbank2_a_air</td>\n",
       "      <td>float64</td>\n",
       "    </tr>\n",
       "    <tr>\n",
       "      <td>70</td>\n",
       "      <td>secondary_cleaner.state.floatbank2_a_level</td>\n",
       "      <td>float64</td>\n",
       "    </tr>\n",
       "    <tr>\n",
       "      <td>71</td>\n",
       "      <td>secondary_cleaner.state.floatbank2_b_air</td>\n",
       "      <td>float64</td>\n",
       "    </tr>\n",
       "    <tr>\n",
       "      <td>72</td>\n",
       "      <td>secondary_cleaner.state.floatbank2_b_level</td>\n",
       "      <td>float64</td>\n",
       "    </tr>\n",
       "    <tr>\n",
       "      <td>73</td>\n",
       "      <td>secondary_cleaner.state.floatbank3_a_air</td>\n",
       "      <td>float64</td>\n",
       "    </tr>\n",
       "    <tr>\n",
       "      <td>74</td>\n",
       "      <td>secondary_cleaner.state.floatbank3_a_level</td>\n",
       "      <td>float64</td>\n",
       "    </tr>\n",
       "    <tr>\n",
       "      <td>75</td>\n",
       "      <td>secondary_cleaner.state.floatbank3_b_air</td>\n",
       "      <td>float64</td>\n",
       "    </tr>\n",
       "    <tr>\n",
       "      <td>76</td>\n",
       "      <td>secondary_cleaner.state.floatbank3_b_level</td>\n",
       "      <td>float64</td>\n",
       "    </tr>\n",
       "    <tr>\n",
       "      <td>77</td>\n",
       "      <td>secondary_cleaner.state.floatbank4_a_air</td>\n",
       "      <td>float64</td>\n",
       "    </tr>\n",
       "    <tr>\n",
       "      <td>78</td>\n",
       "      <td>secondary_cleaner.state.floatbank4_a_level</td>\n",
       "      <td>float64</td>\n",
       "    </tr>\n",
       "    <tr>\n",
       "      <td>79</td>\n",
       "      <td>secondary_cleaner.state.floatbank4_b_air</td>\n",
       "      <td>float64</td>\n",
       "    </tr>\n",
       "    <tr>\n",
       "      <td>80</td>\n",
       "      <td>secondary_cleaner.state.floatbank4_b_level</td>\n",
       "      <td>float64</td>\n",
       "    </tr>\n",
       "    <tr>\n",
       "      <td>81</td>\n",
       "      <td>secondary_cleaner.state.floatbank5_a_air</td>\n",
       "      <td>float64</td>\n",
       "    </tr>\n",
       "    <tr>\n",
       "      <td>82</td>\n",
       "      <td>secondary_cleaner.state.floatbank5_a_level</td>\n",
       "      <td>float64</td>\n",
       "    </tr>\n",
       "    <tr>\n",
       "      <td>83</td>\n",
       "      <td>secondary_cleaner.state.floatbank5_b_air</td>\n",
       "      <td>float64</td>\n",
       "    </tr>\n",
       "    <tr>\n",
       "      <td>84</td>\n",
       "      <td>secondary_cleaner.state.floatbank5_b_level</td>\n",
       "      <td>float64</td>\n",
       "    </tr>\n",
       "    <tr>\n",
       "      <td>85</td>\n",
       "      <td>secondary_cleaner.state.floatbank6_a_air</td>\n",
       "      <td>float64</td>\n",
       "    </tr>\n",
       "    <tr>\n",
       "      <td>86</td>\n",
       "      <td>secondary_cleaner.state.floatbank6_a_level</td>\n",
       "      <td>float64</td>\n",
       "    </tr>\n",
       "  </tbody>\n",
       "</table>\n",
       "</div>"
      ],
      "text/plain": [
       "                                                 name     type\n",
       "0                                                date   object\n",
       "1                         final.output.concentrate_ag  float64\n",
       "2                         final.output.concentrate_pb  float64\n",
       "3                        final.output.concentrate_sol  float64\n",
       "4                         final.output.concentrate_au  float64\n",
       "5                               final.output.recovery  float64\n",
       "6                                final.output.tail_ag  float64\n",
       "7                                final.output.tail_pb  float64\n",
       "8                               final.output.tail_sol  float64\n",
       "9                                final.output.tail_au  float64\n",
       "10                      primary_cleaner.input.sulfate  float64\n",
       "11                   primary_cleaner.input.depressant  float64\n",
       "12                    primary_cleaner.input.feed_size  float64\n",
       "13                     primary_cleaner.input.xanthate  float64\n",
       "14              primary_cleaner.output.concentrate_ag  float64\n",
       "15              primary_cleaner.output.concentrate_pb  float64\n",
       "16             primary_cleaner.output.concentrate_sol  float64\n",
       "17              primary_cleaner.output.concentrate_au  float64\n",
       "18                     primary_cleaner.output.tail_ag  float64\n",
       "19                     primary_cleaner.output.tail_pb  float64\n",
       "20                    primary_cleaner.output.tail_sol  float64\n",
       "21                     primary_cleaner.output.tail_au  float64\n",
       "22             primary_cleaner.state.floatbank8_a_air  float64\n",
       "23           primary_cleaner.state.floatbank8_a_level  float64\n",
       "24             primary_cleaner.state.floatbank8_b_air  float64\n",
       "25           primary_cleaner.state.floatbank8_b_level  float64\n",
       "26             primary_cleaner.state.floatbank8_c_air  float64\n",
       "27           primary_cleaner.state.floatbank8_c_level  float64\n",
       "28             primary_cleaner.state.floatbank8_d_air  float64\n",
       "29           primary_cleaner.state.floatbank8_d_level  float64\n",
       "30      rougher.calculation.sulfate_to_au_concentrate  float64\n",
       "31  rougher.calculation.floatbank10_sulfate_to_au_...  float64\n",
       "32  rougher.calculation.floatbank11_sulfate_to_au_...  float64\n",
       "33                    rougher.calculation.au_pb_ratio  float64\n",
       "34                              rougher.input.feed_ag  float64\n",
       "35                              rougher.input.feed_pb  float64\n",
       "36                            rougher.input.feed_rate  float64\n",
       "37                            rougher.input.feed_size  float64\n",
       "38                             rougher.input.feed_sol  float64\n",
       "39                              rougher.input.feed_au  float64\n",
       "40                  rougher.input.floatbank10_sulfate  float64\n",
       "41                 rougher.input.floatbank10_xanthate  float64\n",
       "42                  rougher.input.floatbank11_sulfate  float64\n",
       "43                 rougher.input.floatbank11_xanthate  float64\n",
       "44                      rougher.output.concentrate_ag  float64\n",
       "45                      rougher.output.concentrate_pb  float64\n",
       "46                     rougher.output.concentrate_sol  float64\n",
       "47                      rougher.output.concentrate_au  float64\n",
       "48                            rougher.output.recovery  float64\n",
       "49                             rougher.output.tail_ag  float64\n",
       "50                             rougher.output.tail_pb  float64\n",
       "51                            rougher.output.tail_sol  float64\n",
       "52                             rougher.output.tail_au  float64\n",
       "53                    rougher.state.floatbank10_a_air  float64\n",
       "54                  rougher.state.floatbank10_a_level  float64\n",
       "55                    rougher.state.floatbank10_b_air  float64\n",
       "56                  rougher.state.floatbank10_b_level  float64\n",
       "57                    rougher.state.floatbank10_c_air  float64\n",
       "58                  rougher.state.floatbank10_c_level  float64\n",
       "59                    rougher.state.floatbank10_d_air  float64\n",
       "60                  rougher.state.floatbank10_d_level  float64\n",
       "61                    rougher.state.floatbank10_e_air  float64\n",
       "62                  rougher.state.floatbank10_e_level  float64\n",
       "63                    rougher.state.floatbank10_f_air  float64\n",
       "64                  rougher.state.floatbank10_f_level  float64\n",
       "65                   secondary_cleaner.output.tail_ag  float64\n",
       "66                   secondary_cleaner.output.tail_pb  float64\n",
       "67                  secondary_cleaner.output.tail_sol  float64\n",
       "68                   secondary_cleaner.output.tail_au  float64\n",
       "69           secondary_cleaner.state.floatbank2_a_air  float64\n",
       "70         secondary_cleaner.state.floatbank2_a_level  float64\n",
       "71           secondary_cleaner.state.floatbank2_b_air  float64\n",
       "72         secondary_cleaner.state.floatbank2_b_level  float64\n",
       "73           secondary_cleaner.state.floatbank3_a_air  float64\n",
       "74         secondary_cleaner.state.floatbank3_a_level  float64\n",
       "75           secondary_cleaner.state.floatbank3_b_air  float64\n",
       "76         secondary_cleaner.state.floatbank3_b_level  float64\n",
       "77           secondary_cleaner.state.floatbank4_a_air  float64\n",
       "78         secondary_cleaner.state.floatbank4_a_level  float64\n",
       "79           secondary_cleaner.state.floatbank4_b_air  float64\n",
       "80         secondary_cleaner.state.floatbank4_b_level  float64\n",
       "81           secondary_cleaner.state.floatbank5_a_air  float64\n",
       "82         secondary_cleaner.state.floatbank5_a_level  float64\n",
       "83           secondary_cleaner.state.floatbank5_b_air  float64\n",
       "84         secondary_cleaner.state.floatbank5_b_level  float64\n",
       "85           secondary_cleaner.state.floatbank6_a_air  float64\n",
       "86         secondary_cleaner.state.floatbank6_a_level  float64"
      ]
     },
     "execution_count": 11,
     "metadata": {},
     "output_type": "execute_result"
    }
   ],
   "source": [
    "#df_types containes all possible parameters and their respective data types\n",
    "df_types = df_full.dtypes.reset_index() #dtypes display each column and their data types\n",
    "#reset_index() is to create a new index instead of using the date as the index\n",
    "\n",
    "df_types.columns = [\"name\", \"type\"] #changes column names from 'index' and '0' to 'name' and 'type'\n",
    "\n",
    "df_types\n",
    "#86 possible parameters amongst full, train, and test sets"
   ]
  },
  {
   "cell_type": "code",
   "execution_count": 12,
   "metadata": {
    "scrolled": true
   },
   "outputs": [
    {
     "data": {
      "text/html": [
       "<div>\n",
       "<style scoped>\n",
       "    .dataframe tbody tr th:only-of-type {\n",
       "        vertical-align: middle;\n",
       "    }\n",
       "\n",
       "    .dataframe tbody tr th {\n",
       "        vertical-align: top;\n",
       "    }\n",
       "\n",
       "    .dataframe thead th {\n",
       "        text-align: right;\n",
       "    }\n",
       "</style>\n",
       "<table border=\"1\" class=\"dataframe\">\n",
       "  <thead>\n",
       "    <tr style=\"text-align: right;\">\n",
       "      <th></th>\n",
       "      <th>name</th>\n",
       "      <th>type</th>\n",
       "      <th>full</th>\n",
       "      <th>train</th>\n",
       "      <th>test</th>\n",
       "    </tr>\n",
       "  </thead>\n",
       "  <tbody>\n",
       "    <tr>\n",
       "      <td>1</td>\n",
       "      <td>final.output.concentrate_ag</td>\n",
       "      <td>float64</td>\n",
       "      <td>1</td>\n",
       "      <td>1</td>\n",
       "      <td>0</td>\n",
       "    </tr>\n",
       "    <tr>\n",
       "      <td>2</td>\n",
       "      <td>final.output.concentrate_pb</td>\n",
       "      <td>float64</td>\n",
       "      <td>1</td>\n",
       "      <td>1</td>\n",
       "      <td>0</td>\n",
       "    </tr>\n",
       "    <tr>\n",
       "      <td>3</td>\n",
       "      <td>final.output.concentrate_sol</td>\n",
       "      <td>float64</td>\n",
       "      <td>1</td>\n",
       "      <td>1</td>\n",
       "      <td>0</td>\n",
       "    </tr>\n",
       "    <tr>\n",
       "      <td>4</td>\n",
       "      <td>final.output.concentrate_au</td>\n",
       "      <td>float64</td>\n",
       "      <td>1</td>\n",
       "      <td>1</td>\n",
       "      <td>0</td>\n",
       "    </tr>\n",
       "    <tr>\n",
       "      <td>5</td>\n",
       "      <td>final.output.recovery</td>\n",
       "      <td>float64</td>\n",
       "      <td>1</td>\n",
       "      <td>1</td>\n",
       "      <td>0</td>\n",
       "    </tr>\n",
       "    <tr>\n",
       "      <td>6</td>\n",
       "      <td>final.output.tail_ag</td>\n",
       "      <td>float64</td>\n",
       "      <td>1</td>\n",
       "      <td>1</td>\n",
       "      <td>0</td>\n",
       "    </tr>\n",
       "    <tr>\n",
       "      <td>7</td>\n",
       "      <td>final.output.tail_pb</td>\n",
       "      <td>float64</td>\n",
       "      <td>1</td>\n",
       "      <td>1</td>\n",
       "      <td>0</td>\n",
       "    </tr>\n",
       "    <tr>\n",
       "      <td>8</td>\n",
       "      <td>final.output.tail_sol</td>\n",
       "      <td>float64</td>\n",
       "      <td>1</td>\n",
       "      <td>1</td>\n",
       "      <td>0</td>\n",
       "    </tr>\n",
       "    <tr>\n",
       "      <td>9</td>\n",
       "      <td>final.output.tail_au</td>\n",
       "      <td>float64</td>\n",
       "      <td>1</td>\n",
       "      <td>1</td>\n",
       "      <td>0</td>\n",
       "    </tr>\n",
       "    <tr>\n",
       "      <td>14</td>\n",
       "      <td>primary_cleaner.output.concentrate_ag</td>\n",
       "      <td>float64</td>\n",
       "      <td>1</td>\n",
       "      <td>1</td>\n",
       "      <td>0</td>\n",
       "    </tr>\n",
       "    <tr>\n",
       "      <td>15</td>\n",
       "      <td>primary_cleaner.output.concentrate_pb</td>\n",
       "      <td>float64</td>\n",
       "      <td>1</td>\n",
       "      <td>1</td>\n",
       "      <td>0</td>\n",
       "    </tr>\n",
       "    <tr>\n",
       "      <td>16</td>\n",
       "      <td>primary_cleaner.output.concentrate_sol</td>\n",
       "      <td>float64</td>\n",
       "      <td>1</td>\n",
       "      <td>1</td>\n",
       "      <td>0</td>\n",
       "    </tr>\n",
       "    <tr>\n",
       "      <td>17</td>\n",
       "      <td>primary_cleaner.output.concentrate_au</td>\n",
       "      <td>float64</td>\n",
       "      <td>1</td>\n",
       "      <td>1</td>\n",
       "      <td>0</td>\n",
       "    </tr>\n",
       "    <tr>\n",
       "      <td>18</td>\n",
       "      <td>primary_cleaner.output.tail_ag</td>\n",
       "      <td>float64</td>\n",
       "      <td>1</td>\n",
       "      <td>1</td>\n",
       "      <td>0</td>\n",
       "    </tr>\n",
       "    <tr>\n",
       "      <td>19</td>\n",
       "      <td>primary_cleaner.output.tail_pb</td>\n",
       "      <td>float64</td>\n",
       "      <td>1</td>\n",
       "      <td>1</td>\n",
       "      <td>0</td>\n",
       "    </tr>\n",
       "    <tr>\n",
       "      <td>20</td>\n",
       "      <td>primary_cleaner.output.tail_sol</td>\n",
       "      <td>float64</td>\n",
       "      <td>1</td>\n",
       "      <td>1</td>\n",
       "      <td>0</td>\n",
       "    </tr>\n",
       "    <tr>\n",
       "      <td>21</td>\n",
       "      <td>primary_cleaner.output.tail_au</td>\n",
       "      <td>float64</td>\n",
       "      <td>1</td>\n",
       "      <td>1</td>\n",
       "      <td>0</td>\n",
       "    </tr>\n",
       "    <tr>\n",
       "      <td>30</td>\n",
       "      <td>rougher.calculation.sulfate_to_au_concentrate</td>\n",
       "      <td>float64</td>\n",
       "      <td>1</td>\n",
       "      <td>1</td>\n",
       "      <td>0</td>\n",
       "    </tr>\n",
       "    <tr>\n",
       "      <td>31</td>\n",
       "      <td>rougher.calculation.floatbank10_sulfate_to_au_...</td>\n",
       "      <td>float64</td>\n",
       "      <td>1</td>\n",
       "      <td>1</td>\n",
       "      <td>0</td>\n",
       "    </tr>\n",
       "    <tr>\n",
       "      <td>32</td>\n",
       "      <td>rougher.calculation.floatbank11_sulfate_to_au_...</td>\n",
       "      <td>float64</td>\n",
       "      <td>1</td>\n",
       "      <td>1</td>\n",
       "      <td>0</td>\n",
       "    </tr>\n",
       "    <tr>\n",
       "      <td>33</td>\n",
       "      <td>rougher.calculation.au_pb_ratio</td>\n",
       "      <td>float64</td>\n",
       "      <td>1</td>\n",
       "      <td>1</td>\n",
       "      <td>0</td>\n",
       "    </tr>\n",
       "    <tr>\n",
       "      <td>44</td>\n",
       "      <td>rougher.output.concentrate_ag</td>\n",
       "      <td>float64</td>\n",
       "      <td>1</td>\n",
       "      <td>1</td>\n",
       "      <td>0</td>\n",
       "    </tr>\n",
       "    <tr>\n",
       "      <td>45</td>\n",
       "      <td>rougher.output.concentrate_pb</td>\n",
       "      <td>float64</td>\n",
       "      <td>1</td>\n",
       "      <td>1</td>\n",
       "      <td>0</td>\n",
       "    </tr>\n",
       "    <tr>\n",
       "      <td>46</td>\n",
       "      <td>rougher.output.concentrate_sol</td>\n",
       "      <td>float64</td>\n",
       "      <td>1</td>\n",
       "      <td>1</td>\n",
       "      <td>0</td>\n",
       "    </tr>\n",
       "    <tr>\n",
       "      <td>47</td>\n",
       "      <td>rougher.output.concentrate_au</td>\n",
       "      <td>float64</td>\n",
       "      <td>1</td>\n",
       "      <td>1</td>\n",
       "      <td>0</td>\n",
       "    </tr>\n",
       "    <tr>\n",
       "      <td>48</td>\n",
       "      <td>rougher.output.recovery</td>\n",
       "      <td>float64</td>\n",
       "      <td>1</td>\n",
       "      <td>1</td>\n",
       "      <td>0</td>\n",
       "    </tr>\n",
       "    <tr>\n",
       "      <td>49</td>\n",
       "      <td>rougher.output.tail_ag</td>\n",
       "      <td>float64</td>\n",
       "      <td>1</td>\n",
       "      <td>1</td>\n",
       "      <td>0</td>\n",
       "    </tr>\n",
       "    <tr>\n",
       "      <td>50</td>\n",
       "      <td>rougher.output.tail_pb</td>\n",
       "      <td>float64</td>\n",
       "      <td>1</td>\n",
       "      <td>1</td>\n",
       "      <td>0</td>\n",
       "    </tr>\n",
       "    <tr>\n",
       "      <td>51</td>\n",
       "      <td>rougher.output.tail_sol</td>\n",
       "      <td>float64</td>\n",
       "      <td>1</td>\n",
       "      <td>1</td>\n",
       "      <td>0</td>\n",
       "    </tr>\n",
       "    <tr>\n",
       "      <td>52</td>\n",
       "      <td>rougher.output.tail_au</td>\n",
       "      <td>float64</td>\n",
       "      <td>1</td>\n",
       "      <td>1</td>\n",
       "      <td>0</td>\n",
       "    </tr>\n",
       "    <tr>\n",
       "      <td>65</td>\n",
       "      <td>secondary_cleaner.output.tail_ag</td>\n",
       "      <td>float64</td>\n",
       "      <td>1</td>\n",
       "      <td>1</td>\n",
       "      <td>0</td>\n",
       "    </tr>\n",
       "    <tr>\n",
       "      <td>66</td>\n",
       "      <td>secondary_cleaner.output.tail_pb</td>\n",
       "      <td>float64</td>\n",
       "      <td>1</td>\n",
       "      <td>1</td>\n",
       "      <td>0</td>\n",
       "    </tr>\n",
       "    <tr>\n",
       "      <td>67</td>\n",
       "      <td>secondary_cleaner.output.tail_sol</td>\n",
       "      <td>float64</td>\n",
       "      <td>1</td>\n",
       "      <td>1</td>\n",
       "      <td>0</td>\n",
       "    </tr>\n",
       "    <tr>\n",
       "      <td>68</td>\n",
       "      <td>secondary_cleaner.output.tail_au</td>\n",
       "      <td>float64</td>\n",
       "      <td>1</td>\n",
       "      <td>1</td>\n",
       "      <td>0</td>\n",
       "    </tr>\n",
       "  </tbody>\n",
       "</table>\n",
       "</div>"
      ],
      "text/plain": [
       "                                                 name     type  full  train  \\\n",
       "1                         final.output.concentrate_ag  float64     1      1   \n",
       "2                         final.output.concentrate_pb  float64     1      1   \n",
       "3                        final.output.concentrate_sol  float64     1      1   \n",
       "4                         final.output.concentrate_au  float64     1      1   \n",
       "5                               final.output.recovery  float64     1      1   \n",
       "6                                final.output.tail_ag  float64     1      1   \n",
       "7                                final.output.tail_pb  float64     1      1   \n",
       "8                               final.output.tail_sol  float64     1      1   \n",
       "9                                final.output.tail_au  float64     1      1   \n",
       "14              primary_cleaner.output.concentrate_ag  float64     1      1   \n",
       "15              primary_cleaner.output.concentrate_pb  float64     1      1   \n",
       "16             primary_cleaner.output.concentrate_sol  float64     1      1   \n",
       "17              primary_cleaner.output.concentrate_au  float64     1      1   \n",
       "18                     primary_cleaner.output.tail_ag  float64     1      1   \n",
       "19                     primary_cleaner.output.tail_pb  float64     1      1   \n",
       "20                    primary_cleaner.output.tail_sol  float64     1      1   \n",
       "21                     primary_cleaner.output.tail_au  float64     1      1   \n",
       "30      rougher.calculation.sulfate_to_au_concentrate  float64     1      1   \n",
       "31  rougher.calculation.floatbank10_sulfate_to_au_...  float64     1      1   \n",
       "32  rougher.calculation.floatbank11_sulfate_to_au_...  float64     1      1   \n",
       "33                    rougher.calculation.au_pb_ratio  float64     1      1   \n",
       "44                      rougher.output.concentrate_ag  float64     1      1   \n",
       "45                      rougher.output.concentrate_pb  float64     1      1   \n",
       "46                     rougher.output.concentrate_sol  float64     1      1   \n",
       "47                      rougher.output.concentrate_au  float64     1      1   \n",
       "48                            rougher.output.recovery  float64     1      1   \n",
       "49                             rougher.output.tail_ag  float64     1      1   \n",
       "50                             rougher.output.tail_pb  float64     1      1   \n",
       "51                            rougher.output.tail_sol  float64     1      1   \n",
       "52                             rougher.output.tail_au  float64     1      1   \n",
       "65                   secondary_cleaner.output.tail_ag  float64     1      1   \n",
       "66                   secondary_cleaner.output.tail_pb  float64     1      1   \n",
       "67                  secondary_cleaner.output.tail_sol  float64     1      1   \n",
       "68                   secondary_cleaner.output.tail_au  float64     1      1   \n",
       "\n",
       "    test  \n",
       "1      0  \n",
       "2      0  \n",
       "3      0  \n",
       "4      0  \n",
       "5      0  \n",
       "6      0  \n",
       "7      0  \n",
       "8      0  \n",
       "9      0  \n",
       "14     0  \n",
       "15     0  \n",
       "16     0  \n",
       "17     0  \n",
       "18     0  \n",
       "19     0  \n",
       "20     0  \n",
       "21     0  \n",
       "30     0  \n",
       "31     0  \n",
       "32     0  \n",
       "33     0  \n",
       "44     0  \n",
       "45     0  \n",
       "46     0  \n",
       "47     0  \n",
       "48     0  \n",
       "49     0  \n",
       "50     0  \n",
       "51     0  \n",
       "52     0  \n",
       "65     0  \n",
       "66     0  \n",
       "67     0  \n",
       "68     0  "
      ]
     },
     "execution_count": 12,
     "metadata": {},
     "output_type": "execute_result"
    }
   ],
   "source": [
    "#adding columns for full, train, and test to show count for which parameters are present\n",
    "df_types['full'] = np.vectorize(lambda x: int(x in df_full.columns))(df_types[\"name\"])\n",
    "#np.vectorize() -- for convenient iteration\n",
    "#lambda x: = the lambda arguement\n",
    "#x in df_full.columns -- the expression that returns an object\n",
    "#int() -- to express the lambda function as 1 or 0 instead of True or False\n",
    "#(df_types[\"name\"]) = 'x'\n",
    "\n",
    "#creating similar columns for train and test\n",
    "df_types[\"train\"] = np.vectorize(lambda x: int(x in df_train.columns))(df_types[\"name\"].values)\n",
    "df_types[\"test\"] = np.vectorize(lambda x: int(x in df_test.columns))(df_types[\"name\"].values)\n",
    "df_types[df_types[\"test\"]==0] #finds all parameters that test is missing"
   ]
  },
  {
   "cell_type": "markdown",
   "metadata": {},
   "source": [
    "#### Conclusion: Missing Features in Test Df\n",
    "\n",
    "1) There are 68 parameters missing from the test df\n",
    "\n",
    "2) All 68 were present in both full and train df's\n",
    "\n",
    "3) All data types were float64\n",
    "\n",
    "4) The targets are missing from the test dataframe -- these need to be added back in"
   ]
  },
  {
   "cell_type": "markdown",
   "metadata": {},
   "source": [
    "<div class=\"alert alert-block alert-success\">\n",
    "<b>Success:</b> Right.\n",
    "</div>"
   ]
  },
  {
   "cell_type": "markdown",
   "metadata": {},
   "source": [
    "### Perform Data Preprocessing\n",
    "\n",
    "1) Targets 'final.output.recovery' and 'rougher.output.recovery' need to be added into train dataframe for target_train variables\n",
    "\n",
    "2) Are the targets missing values in the dataframes?"
   ]
  },
  {
   "cell_type": "code",
   "execution_count": 13,
   "metadata": {},
   "outputs": [],
   "source": [
    "#for loop to convert date to datetime -- organizing the dataframes\n",
    "for df in [df_full, df_train, df_test]:\n",
    "    if \"date\" in df.columns:\n",
    "        df[\"date\"] = pd.to_datetime(df[\"date\"])\n",
    "        df.set_index(\"date\", inplace=True) #date column becomes df index"
   ]
  },
  {
   "cell_type": "code",
   "execution_count": 14,
   "metadata": {
    "scrolled": true
   },
   "outputs": [
    {
     "name": "stdout",
     "output_type": "stream",
     "text": [
      "1521 2573\n"
     ]
    }
   ],
   "source": [
    "train_final_null = df_train['final.output.recovery'].isna().sum()\n",
    "train_rougher_null = df_train['rougher.output.recovery'].isna().sum()\n",
    "print(train_final_null, train_rougher_null)\n",
    "#train_targets have missing values"
   ]
  },
  {
   "cell_type": "code",
   "execution_count": 15,
   "metadata": {},
   "outputs": [
    {
     "name": "stdout",
     "output_type": "stream",
     "text": [
      "1963 3119\n"
     ]
    }
   ],
   "source": [
    "full_final_null = df_full['final.output.recovery'].isna().sum()\n",
    "full_rougher_null = df_full['rougher.output.recovery'].isna().sum()\n",
    "print(full_final_null, full_rougher_null)\n",
    "#test missing values = full missing - train missing"
   ]
  },
  {
   "cell_type": "code",
   "execution_count": 16,
   "metadata": {},
   "outputs": [
    {
     "name": "stdout",
     "output_type": "stream",
     "text": [
      "test[final.output.recovery] null: 442\n",
      "test[rougher.output.recovery] null: 546\n"
     ]
    }
   ],
   "source": [
    "print('test[final.output.recovery] null:', full_final_null - train_final_null)\n",
    "print('test[rougher.output.recovery] null:', full_rougher_null - train_rougher_null)"
   ]
  },
  {
   "cell_type": "code",
   "execution_count": 17,
   "metadata": {},
   "outputs": [
    {
     "data": {
      "text/plain": [
       "(5856, 52)"
      ]
     },
     "execution_count": 17,
     "metadata": {},
     "output_type": "execute_result"
    }
   ],
   "source": [
    "df_test.shape"
   ]
  },
  {
   "cell_type": "code",
   "execution_count": 18,
   "metadata": {
    "scrolled": false
   },
   "outputs": [
    {
     "data": {
      "text/html": [
       "<div>\n",
       "<style scoped>\n",
       "    .dataframe tbody tr th:only-of-type {\n",
       "        vertical-align: middle;\n",
       "    }\n",
       "\n",
       "    .dataframe tbody tr th {\n",
       "        vertical-align: top;\n",
       "    }\n",
       "\n",
       "    .dataframe thead th {\n",
       "        text-align: right;\n",
       "    }\n",
       "</style>\n",
       "<table border=\"1\" class=\"dataframe\">\n",
       "  <thead>\n",
       "    <tr style=\"text-align: right;\">\n",
       "      <th></th>\n",
       "      <th>final.output.recovery</th>\n",
       "      <th>rougher.output.recovery</th>\n",
       "    </tr>\n",
       "    <tr>\n",
       "      <th>date</th>\n",
       "      <th></th>\n",
       "      <th></th>\n",
       "    </tr>\n",
       "  </thead>\n",
       "  <tbody>\n",
       "    <tr>\n",
       "      <td>2016-09-01 00:59:59</td>\n",
       "      <td>70.273583</td>\n",
       "      <td>89.993421</td>\n",
       "    </tr>\n",
       "    <tr>\n",
       "      <td>2016-09-01 01:59:59</td>\n",
       "      <td>68.910432</td>\n",
       "      <td>88.089657</td>\n",
       "    </tr>\n",
       "    <tr>\n",
       "      <td>2016-09-01 02:59:59</td>\n",
       "      <td>68.143213</td>\n",
       "      <td>88.412756</td>\n",
       "    </tr>\n",
       "    <tr>\n",
       "      <td>2016-09-01 03:59:59</td>\n",
       "      <td>67.776393</td>\n",
       "      <td>87.360133</td>\n",
       "    </tr>\n",
       "    <tr>\n",
       "      <td>2016-09-01 04:59:59</td>\n",
       "      <td>61.467078</td>\n",
       "      <td>83.236367</td>\n",
       "    </tr>\n",
       "  </tbody>\n",
       "</table>\n",
       "</div>"
      ],
      "text/plain": [
       "                     final.output.recovery  rougher.output.recovery\n",
       "date                                                               \n",
       "2016-09-01 00:59:59              70.273583                89.993421\n",
       "2016-09-01 01:59:59              68.910432                88.089657\n",
       "2016-09-01 02:59:59              68.143213                88.412756\n",
       "2016-09-01 03:59:59              67.776393                87.360133\n",
       "2016-09-01 04:59:59              61.467078                83.236367"
      ]
     },
     "metadata": {},
     "output_type": "display_data"
    },
    {
     "data": {
      "text/plain": [
       "(5856, 54)"
      ]
     },
     "metadata": {},
     "output_type": "display_data"
    }
   ],
   "source": [
    "#Adding target variables to the test df\n",
    "#ensuring the columns had merged \n",
    "df_test = df_test.merge(df_full[['final.output.recovery', 'rougher.output.recovery']], \n",
    "              how='left', left_index=True, right_index=True)\n",
    "\n",
    "display(df_test[['final.output.recovery', 'rougher.output.recovery']].head(), df_test.shape)\n",
    "#merge was successful; test df now has the target variables, \n",
    "#test still has missing values carried over from df_full"
   ]
  },
  {
   "cell_type": "markdown",
   "metadata": {},
   "source": [
    "#### Conclusion: Adding The Target Variables Into Test Set\n",
    "1) Previous pre-merge test df shape was 52 columns, post-merge test df shape is 54 showing that target variables were succesfully added\n",
    "\n",
    "2) The amount of rows did not change pre and post merge indicating that the values were filled in based on matching indices with the test dataframe, since full has all values including test values"
   ]
  },
  {
   "cell_type": "code",
   "execution_count": 19,
   "metadata": {},
   "outputs": [
    {
     "data": {
      "text/plain": [
       "(16860, 86)"
      ]
     },
     "metadata": {},
     "output_type": "display_data"
    },
    {
     "data": {
      "text/plain": [
       "(5856, 54)"
      ]
     },
     "metadata": {},
     "output_type": "display_data"
    }
   ],
   "source": [
    "display(df_train.shape, df_test.shape)"
   ]
  },
  {
   "cell_type": "code",
   "execution_count": 20,
   "metadata": {
    "scrolled": true
   },
   "outputs": [
    {
     "data": {
      "text/plain": [
       "(14149, 86)"
      ]
     },
     "metadata": {},
     "output_type": "display_data"
    },
    {
     "data": {
      "text/plain": [
       "final.output.concentrate_ag                           0\n",
       "final.output.concentrate_pb                           0\n",
       "final.output.concentrate_sol                          0\n",
       "final.output.concentrate_au                           0\n",
       "final.output.recovery                                 0\n",
       "final.output.tail_ag                                  0\n",
       "final.output.tail_pb                                  0\n",
       "final.output.tail_sol                                 0\n",
       "final.output.tail_au                                  0\n",
       "primary_cleaner.input.sulfate                         0\n",
       "primary_cleaner.input.depressant                      0\n",
       "primary_cleaner.input.feed_size                       0\n",
       "primary_cleaner.input.xanthate                        0\n",
       "primary_cleaner.output.concentrate_ag                 0\n",
       "primary_cleaner.output.concentrate_pb                 0\n",
       "primary_cleaner.output.concentrate_sol                0\n",
       "primary_cleaner.output.concentrate_au                 0\n",
       "primary_cleaner.output.tail_ag                        0\n",
       "primary_cleaner.output.tail_pb                        0\n",
       "primary_cleaner.output.tail_sol                       0\n",
       "primary_cleaner.output.tail_au                        0\n",
       "primary_cleaner.state.floatbank8_a_air                0\n",
       "primary_cleaner.state.floatbank8_a_level              0\n",
       "primary_cleaner.state.floatbank8_b_air                0\n",
       "primary_cleaner.state.floatbank8_b_level              0\n",
       "primary_cleaner.state.floatbank8_c_air                0\n",
       "primary_cleaner.state.floatbank8_c_level              0\n",
       "primary_cleaner.state.floatbank8_d_air                0\n",
       "primary_cleaner.state.floatbank8_d_level              0\n",
       "rougher.calculation.sulfate_to_au_concentrate         0\n",
       "rougher.calculation.floatbank10_sulfate_to_au_feed    0\n",
       "rougher.calculation.floatbank11_sulfate_to_au_feed    0\n",
       "rougher.calculation.au_pb_ratio                       0\n",
       "rougher.input.feed_ag                                 0\n",
       "rougher.input.feed_pb                                 0\n",
       "rougher.input.feed_rate                               0\n",
       "rougher.input.feed_size                               0\n",
       "rougher.input.feed_sol                                0\n",
       "rougher.input.feed_au                                 0\n",
       "rougher.input.floatbank10_sulfate                     0\n",
       "rougher.input.floatbank10_xanthate                    0\n",
       "rougher.input.floatbank11_sulfate                     0\n",
       "rougher.input.floatbank11_xanthate                    0\n",
       "rougher.output.concentrate_ag                         0\n",
       "rougher.output.concentrate_pb                         0\n",
       "rougher.output.concentrate_sol                        0\n",
       "rougher.output.concentrate_au                         0\n",
       "rougher.output.recovery                               0\n",
       "rougher.output.tail_ag                                0\n",
       "rougher.output.tail_pb                                0\n",
       "rougher.output.tail_sol                               0\n",
       "rougher.output.tail_au                                0\n",
       "rougher.state.floatbank10_a_air                       0\n",
       "rougher.state.floatbank10_a_level                     0\n",
       "rougher.state.floatbank10_b_air                       0\n",
       "rougher.state.floatbank10_b_level                     0\n",
       "rougher.state.floatbank10_c_air                       0\n",
       "rougher.state.floatbank10_c_level                     0\n",
       "rougher.state.floatbank10_d_air                       0\n",
       "rougher.state.floatbank10_d_level                     0\n",
       "rougher.state.floatbank10_e_air                       0\n",
       "rougher.state.floatbank10_e_level                     0\n",
       "rougher.state.floatbank10_f_air                       0\n",
       "rougher.state.floatbank10_f_level                     0\n",
       "secondary_cleaner.output.tail_ag                      0\n",
       "secondary_cleaner.output.tail_pb                      0\n",
       "secondary_cleaner.output.tail_sol                     0\n",
       "secondary_cleaner.output.tail_au                      0\n",
       "secondary_cleaner.state.floatbank2_a_air              0\n",
       "secondary_cleaner.state.floatbank2_a_level            0\n",
       "secondary_cleaner.state.floatbank2_b_air              0\n",
       "secondary_cleaner.state.floatbank2_b_level            0\n",
       "secondary_cleaner.state.floatbank3_a_air              0\n",
       "secondary_cleaner.state.floatbank3_a_level            0\n",
       "secondary_cleaner.state.floatbank3_b_air              0\n",
       "secondary_cleaner.state.floatbank3_b_level            0\n",
       "secondary_cleaner.state.floatbank4_a_air              0\n",
       "secondary_cleaner.state.floatbank4_a_level            0\n",
       "secondary_cleaner.state.floatbank4_b_air              0\n",
       "secondary_cleaner.state.floatbank4_b_level            0\n",
       "secondary_cleaner.state.floatbank5_a_air              0\n",
       "secondary_cleaner.state.floatbank5_a_level            0\n",
       "secondary_cleaner.state.floatbank5_b_air              0\n",
       "secondary_cleaner.state.floatbank5_b_level            0\n",
       "secondary_cleaner.state.floatbank6_a_air              0\n",
       "secondary_cleaner.state.floatbank6_a_level            0\n",
       "dtype: int64"
      ]
     },
     "metadata": {},
     "output_type": "display_data"
    }
   ],
   "source": [
    "#removing target_train null values\n",
    "df_train = df_train[~df_train['final.output.recovery'].isna()]\n",
    "df_train = df_train[~df_train['rougher.output.recovery'].isna()]\n",
    "\n",
    "#filling in the rest of the df's null values using ffill\n",
    "df_train = df_train.fillna(method='ffill') #inserts previous series value as null's new value\n",
    "display(df_train.shape, df_train.isna().sum())\n"
   ]
  },
  {
   "cell_type": "code",
   "execution_count": 21,
   "metadata": {},
   "outputs": [],
   "source": [
    "#same process with test set\n",
    "df_test = df_test[~df_test['final.output.recovery'].isna()]\n",
    "df_test = df_test[~df_test['rougher.output.recovery'].isna()]\n",
    "df_test = df_test.fillna(method='ffill')"
   ]
  },
  {
   "cell_type": "markdown",
   "metadata": {},
   "source": [
    "#### Conclusion: Filling Missing Values\n",
    "\n",
    "1) The train and test sets had rows with missing target variable values removed\n",
    "\n",
    "2) The rest of the missing values had values filled in using ffill, which fills the previous row value in for the missing value"
   ]
  },
  {
   "cell_type": "markdown",
   "metadata": {},
   "source": [
    "<div class=\"alert alert-block alert-success\">\n",
    "<b>Success:</b> ffill is was the best way ro fill nans in this case!\n",
    "</div>"
   ]
  },
  {
   "cell_type": "markdown",
   "metadata": {},
   "source": [
    "## Analyze the data"
   ]
  },
  {
   "cell_type": "markdown",
   "metadata": {},
   "source": [
    "### Take note of how the concentrations of metals (Au, Ag, Pb) change depending on the purification stage."
   ]
  },
  {
   "cell_type": "code",
   "execution_count": 22,
   "metadata": {
    "scrolled": false
   },
   "outputs": [
    {
     "data": {
      "image/png": "[encoded data removed]",
      "text/plain": [
       "<Figure size 1512x648 with 6 Axes>"
      ]
     },
     "metadata": {
      "needs_background": "light"
     },
     "output_type": "display_data"
    }
   ],
   "source": [
    "metals = ['au', 'ag', 'pb']\n",
    "columns = ['rougher.output.tail', 'primary_cleaner.output.tail','final.output.tail',\\\n",
    "           'rougher.output.concentrate', 'primary_cleaner.output.concentrate', 'final.output.concentrate']\n",
    "\n",
    "_, axs = plt.subplots(2,3, figsize=(21, 9))\n",
    "axs = axs.flatten()\n",
    "\n",
    "for column, ax in zip(columns, axs):\n",
    "    cols = [f\"{t}_{m}\" for t,m in zip([column]*3,metals)]\n",
    "    temp_df = pd.melt(df_train[cols])\n",
    "    temp_df[\"variable\"] = temp_df[\"variable\"].str.replace(column+\"_\",\"\")\n",
    "    display_group_density_plot(temp_df, groupby=\"variable\", on=\"value\", title=f\"distribution of {column} per metals\", ax=ax)\n",
    "    ax.legend()\n",
    "\n",
    "plt.tight_layout()\n",
    "plt.show()"
   ]
  },
  {
   "cell_type": "markdown",
   "metadata": {},
   "source": [
    "#### Conclusion: Metal Concentration Changes in Relation to Purification Stage\n",
    "1) Abnormal concentration values exist in rougher and primary_cleaner stages.\n",
    "\n",
    "2) Some outliers around 0 exist "
   ]
  },
  {
   "cell_type": "markdown",
   "metadata": {},
   "source": [
    "<div class=\"alert alert-block alert-success\">\n",
    "<b>Success:</b> Great visualization!\n",
    "</div>"
   ]
  },
  {
   "cell_type": "code",
   "execution_count": 23,
   "metadata": {},
   "outputs": [
    {
     "data": {
      "image/png": "[encoded data removed]",
      "text/plain": [
       "<Figure size 720x360 with 1 Axes>"
      ]
     },
     "metadata": {
      "needs_background": "light"
     },
     "output_type": "display_data"
    }
   ],
   "source": [
    "metals = ['au', 'ag', 'pb']\n",
    "column = 'rougher.input.feed'\n",
    "cols = [f\"{t}_{m}\" for t,m in zip([column]*3,metals)]\n",
    "temp_df = pd.melt(df_train[cols])\n",
    "temp_df[\"variable\"] = temp_df[\"variable\"].str.replace(column+\"_\",\"\")\n",
    "ax = display_group_density_plot(temp_df, groupby=\"variable\", on=\"value\", title=f\"distribution of {column} per metals\")\n",
    "temp_df = pd.melt(df_test[cols])\n",
    "temp_df[\"variable\"] = temp_df[\"variable\"].str.replace(column+\"_\",\"\")\n",
    "display_group_density_plot(temp_df, groupby=\"variable\", on=\"value\", title=f\"distribution of {column} per metals\", ax=ax)\n",
    "plt.tight_layout()\n",
    "plt.show()"
   ]
  },
  {
   "cell_type": "code",
   "execution_count": 24,
   "metadata": {},
   "outputs": [
    {
     "data": {
      "text/plain": [
       "['primary_cleaner.input.feed_size', 'rougher.input.feed_size']"
      ]
     },
     "execution_count": 24,
     "metadata": {},
     "output_type": "execute_result"
    }
   ],
   "source": [
    "list(filter(lambda s: \"feed_size\" in s, df_train.columns))"
   ]
  },
  {
   "cell_type": "code",
   "execution_count": 25,
   "metadata": {},
   "outputs": [
    {
     "data": {
      "text/plain": [
       "<matplotlib.legend.Legend at 0x7ff6dd7de650>"
      ]
     },
     "execution_count": 25,
     "metadata": {},
     "output_type": "execute_result"
    },
    {
     "data": {
      "image/png": "[encoded data removed]",
      "text/plain": [
       "<Figure size 432x288 with 1 Axes>"
      ]
     },
     "metadata": {
      "needs_background": "light"
     },
     "output_type": "display_data"
    }
   ],
   "source": [
    "sns.distplot(df_train[\"primary_cleaner.input.feed_size\"],bins=15, hist_kws=dict(alpha=0.7), label=\"train\")\n",
    "g = sns.distplot(df_test[\"primary_cleaner.input.feed_size\"],bins=15, hist_kws=dict(alpha=0.3), label=\"test\")\n",
    "g.set(xlim=(0, 20))\n",
    "g.legend()"
   ]
  },
  {
   "cell_type": "code",
   "execution_count": 26,
   "metadata": {},
   "outputs": [
    {
     "data": {
      "text/plain": [
       "<matplotlib.legend.Legend at 0x7ff6dd5d7b50>"
      ]
     },
     "execution_count": 26,
     "metadata": {},
     "output_type": "execute_result"
    },
    {
     "data": {
      "image/png": "[encoded data removed]",
      "text/plain": [
       "<Figure size 432x288 with 1 Axes>"
      ]
     },
     "metadata": {
      "needs_background": "light"
     },
     "output_type": "display_data"
    }
   ],
   "source": [
    "sns.distplot(df_train[\"rougher.input.feed_size\"],bins=100, hist_kws=dict(alpha=0.7), label=\"train\")\n",
    "g = sns.distplot(df_test[\"rougher.input.feed_size\"],bins=100, hist_kws=dict(alpha=0.3), label=\"test\")\n",
    "g.set(xlim=(0, 150))\n",
    "g.legend()"
   ]
  },
  {
   "cell_type": "code",
   "execution_count": 27,
   "metadata": {},
   "outputs": [
    {
     "data": {
      "text/plain": [
       "count    14149.000000\n",
       "mean        60.239856\n",
       "std         23.005310\n",
       "min          9.659576\n",
       "25%         48.966751\n",
       "50%         55.269784\n",
       "75%         66.007526\n",
       "max        484.967466\n",
       "Name: rougher.input.feed_size, dtype: float64"
      ]
     },
     "execution_count": 27,
     "metadata": {},
     "output_type": "execute_result"
    }
   ],
   "source": [
    "df_train.describe()['rougher.input.feed_size']"
   ]
  },
  {
   "cell_type": "code",
   "execution_count": 28,
   "metadata": {},
   "outputs": [
    {
     "data": {
      "text/plain": [
       "count    5290.000000\n",
       "mean       55.952754\n",
       "std        19.080334\n",
       "min         0.046369\n",
       "25%        43.906504\n",
       "50%        50.846843\n",
       "75%        62.451165\n",
       "max       392.494040\n",
       "Name: rougher.input.feed_size, dtype: float64"
      ]
     },
     "execution_count": 28,
     "metadata": {},
     "output_type": "execute_result"
    }
   ],
   "source": [
    "df_test.describe()['rougher.input.feed_size']"
   ]
  },
  {
   "cell_type": "markdown",
   "metadata": {},
   "source": [
    "#### Conclusion: Density Plots\n",
    "\n",
    "1) According to density plots, the feed particle size distributions between training and test sets are different, however, the mean values are close to one another (55 and 60)\n",
    "\n",
    "2) Concentration of the gold was increased, but lead and silver after the final stage decreased or remained the same. Gold's concentration increases linearly. "
   ]
  },
  {
   "cell_type": "markdown",
   "metadata": {},
   "source": [
    "<div class=\"alert alert-block alert-success\">\n",
    "<b>Success:</b> Glad to see that you've used dist plot here.\n",
    "</div>"
   ]
  },
  {
   "cell_type": "markdown",
   "metadata": {},
   "source": [
    "## Write a function to calculate the final sMAPE value."
   ]
  },
  {
   "cell_type": "markdown",
   "metadata": {},
   "source": [
    "### Train different models. Evaluate them using cross-validation. Pick the best model and test it using the test sample. Provide findings. Use these formulas for evaluation metrics:"
   ]
  },
  {
   "cell_type": "code",
   "execution_count": 29,
   "metadata": {},
   "outputs": [],
   "source": [
    "target = ['rougher.output.recovery', 'final.output.recovery']\n",
    "features = list(set(df_train.columns).intersection(set(df_test.columns)).difference(set(target)))"
   ]
  },
  {
   "cell_type": "code",
   "execution_count": 30,
   "metadata": {},
   "outputs": [],
   "source": [
    "def smape(y_true, y_pred):\n",
    "    frac = np.divide(np.abs(y_true - y_pred), (np.abs(y_true)+np.abs(y_pred))/2)\n",
    "    return np.average(frac, axis=0)"
   ]
  },
  {
   "cell_type": "code",
   "execution_count": 31,
   "metadata": {},
   "outputs": [],
   "source": [
    "def smape_final(y_true,y_pred):\n",
    "    smape_out_rougher = smape(y_true[target.index('rougher.output.recovery')], y_pred[target.index('rougher.output.recovery')])\n",
    "    smape_out_final = smape(y_true[target.index('final.output.recovery')], y_pred[target.index('final.output.recovery')])\n",
    "    return 0.25*smape_out_rougher + 0.75*smape_out_final"
   ]
  },
  {
   "cell_type": "markdown",
   "metadata": {},
   "source": [
    "<div class=\"alert alert-block alert-success\">\n",
    "<b>Success:</b> Great that you've avoid using loops in this function.\n",
    "</div>"
   ]
  },
  {
   "cell_type": "code",
   "execution_count": 32,
   "metadata": {},
   "outputs": [],
   "source": [
    "smape_score = make_scorer(smape_final, greater_is_better=False)"
   ]
  },
  {
   "cell_type": "markdown",
   "metadata": {},
   "source": [
    "<div class=\"alert alert-block alert-danger\">\n",
    "<b>Needs fixing:</b> Scorer was defined in the wrong way. Please pay attention to \"greater_is_better\" parameter.\n",
    "</div>"
   ]
  },
  {
   "cell_type": "markdown",
   "metadata": {},
   "source": [
    "<div class=\"alert alert-block alert-success\">\n",
    "<b>Success (review 2):</b> Well done!\n",
    "</div>"
   ]
  },
  {
   "cell_type": "code",
   "execution_count": 33,
   "metadata": {},
   "outputs": [],
   "source": [
    "X_train, X_test = df_train[features].values, df_test[features].values\n",
    "y_train, y_test = df_train[target].values, df_test[target].values"
   ]
  },
  {
   "cell_type": "code",
   "execution_count": 34,
   "metadata": {},
   "outputs": [
    {
     "name": "stdout",
     "output_type": "stream",
     "text": [
      "mean smape: -0.06141021786120606\n"
     ]
    },
    {
     "data": {
      "text/plain": [
       "array([-0.03233747, -0.09156739, -0.09424053, -0.04954844, -0.03935726])"
      ]
     },
     "execution_count": 34,
     "metadata": {},
     "output_type": "execute_result"
    }
   ],
   "source": [
    "lr = LinearRegression().fit(X_train, y_train)\n",
    "scores_lr = cross_val_score(lr, X_train, y_train, cv=5, scoring=smape_score)\n",
    "print(\"mean smape:\", scores_lr.mean())\n",
    "scores_lr"
   ]
  },
  {
   "cell_type": "code",
   "execution_count": 35,
   "metadata": {},
   "outputs": [],
   "source": [
    "params = {'min_samples_split': range(2, 10, 2), 'max_depth': range(4,8,2)}\n",
    "g_cv = GridSearchCV(DecisionTreeRegressor(random_state=random_state),param_grid=params,scoring=smape_score, cv=5, refit=True)\n",
    "g_cv.fit(X_train, y_train)\n",
    "best_params = g_cv.best_params_"
   ]
  },
  {
   "cell_type": "code",
   "execution_count": 36,
   "metadata": {},
   "outputs": [
    {
     "name": "stdout",
     "output_type": "stream",
     "text": [
      "mean smape: -0.052502635128932884\n"
     ]
    },
    {
     "data": {
      "text/plain": [
       "array([-0.05360794, -0.12016114, -0.01992067, -0.05022054, -0.01860289])"
      ]
     },
     "execution_count": 36,
     "metadata": {},
     "output_type": "execute_result"
    }
   ],
   "source": [
    "dtr = DecisionTreeRegressor(**best_params).fit(X_train, y_train)\n",
    "scores_dtr = cross_val_score(dtr, X_train, y_train, cv=5, scoring=smape_score)\n",
    "print(\"mean smape:\", scores_dtr.mean())\n",
    "scores_dtr"
   ]
  },
  {
   "cell_type": "code",
   "execution_count": 37,
   "metadata": {},
   "outputs": [],
   "source": [
    "params = {'min_samples_split': range(2, 6, 2)}\n",
    "rf_cv = GridSearchCV(RandomForestRegressor(random_state=random_state),param_grid=params,scoring=smape_score, cv=5, refit=True)\n",
    "rf_cv.fit(X_train, y_train)\n",
    "best_params = rf_cv.best_params_"
   ]
  },
  {
   "cell_type": "code",
   "execution_count": 38,
   "metadata": {},
   "outputs": [
    {
     "name": "stdout",
     "output_type": "stream",
     "text": [
      "mean smape: -0.1450034153416387\n"
     ]
    },
    {
     "data": {
      "text/plain": [
       "array([-0.28760231, -0.33727146, -0.02046383, -0.04670262, -0.03297686])"
      ]
     },
     "execution_count": 38,
     "metadata": {},
     "output_type": "execute_result"
    }
   ],
   "source": [
    "rfr = RandomForestRegressor(**best_params).fit(X_train, y_train)\n",
    "scores_rfr = cross_val_score(rfr, X_train, y_train, cv=5, scoring=smape_score)\n",
    "print(\"mean smape:\", scores_rfr.mean())\n",
    "scores_rfr"
   ]
  },
  {
   "cell_type": "markdown",
   "metadata": {},
   "source": [
    "<div class=\"alert alert-block alert-success\">\n",
    "<b>Success:</b> Great that you've tried several models!\n",
    "</div>"
   ]
  },
  {
   "cell_type": "markdown",
   "metadata": {},
   "source": [
    "<div class=\"alert alert-block alert-danger\">\n",
    "<b>Needs fixing (review 2):</b> What about testing? X_test, y_test were not used at all.\n",
    "</div>"
   ]
  },
  {
   "cell_type": "markdown",
   "metadata": {},
   "source": [
    "#### sMAPE Metric Evaluation (Train):\n",
    "\n",
    "1) Linear regression:  𝑠𝑀𝐴𝑃𝐸𝑚𝑒𝑎𝑛≈ -0.0614\n",
    "\n",
    "2) Decision tree regressor:  𝑠𝑀𝐴𝑃𝐸𝑚𝑒𝑎𝑛≈ -0.0525\n",
    "\n",
    "3) Random forest regressor:  𝑠𝑀𝐴𝑃𝐸𝑚𝑒𝑎𝑛≈ -0.1399\n",
    "\n",
    "4) Linear regression and has the lowest sMAPE score, making it best and most accurate trained model"
   ]
  },
  {
   "cell_type": "markdown",
   "metadata": {},
   "source": [
    "### Final Test"
   ]
  },
  {
   "cell_type": "code",
   "execution_count": 53,
   "metadata": {},
   "outputs": [
    {
     "name": "stdout",
     "output_type": "stream",
     "text": [
      "mean smape: -0.049678811072039177\n"
     ]
    },
    {
     "data": {
      "text/plain": [
       "-0.049678811072039177"
      ]
     },
     "execution_count": 53,
     "metadata": {},
     "output_type": "execute_result"
    }
   ],
   "source": [
    "preds_lr = lr.predict(X_test)\n",
    "smape_lr = -smape_final(y_test, preds_lr) \n",
    "#smape_score() doesn't work when using test set, a negative smape_final function is used instead\n",
    "\n",
    "print(\"mean smape:\", smape_lr)\n",
    "smape_lr"
   ]
  },
  {
   "cell_type": "markdown",
   "metadata": {},
   "source": [
    "<div class=\"alert alert-block alert-danger\">\n",
    "<b>Needs fixing (review 3):</b> cross_val_score splits data that is passed into train and test set, fit model in train and measure the score on test. In your case it splits X_test to train and test, ...\n",
    "    \n",
    "Please just train model on X_train and predict on X_test without cross_val_score.\n",
    "</div>"
   ]
  },
  {
   "cell_type": "markdown",
   "metadata": {},
   "source": [
    "<div class=\"alert alert-block alert-danger\">\n",
    "\n",
    "<b>Needs fixing (review 4):</b> There is a typo: `scores_lr` was used instead of `smape_lr`. `.mean()` shouldn't be use because `smape_final` returns one value.\n",
    "</div>"
   ]
  },
  {
   "cell_type": "markdown",
   "metadata": {},
   "source": [
    "#### Final Test Results\n",
    "\n",
    "1) The final test yielded a mean smape score of -0.05\n",
    "\n",
    "2) The cross-valid score -0.06 was slightly better, but -0.05 is not too much different\n",
    "\n",
    "3) The model is still adequate"
   ]
  },
  {
   "cell_type": "markdown",
   "metadata": {},
   "source": [
    "## General Conclusion\n",
    "\n",
    "1) An accurate prototype model in predicting gold yields may now be used by Zyfra.\n",
    "\n",
    "2) Since it is only a prototype, implementation can be used but is still subject for improvement before a final model is officially released."
   ]
  },
  {
   "cell_type": "code",
   "execution_count": null,
   "metadata": {},
   "outputs": [],
   "source": []
  }
 ],
 "metadata": {
  "ExecuteTimeLog": [
   {
    "duration": 451,
    "start_time": "2021-12-17T18:02:41.356Z"
   },
   {
    "duration": 1193,
    "start_time": "2021-12-17T18:02:48.530Z"
   },
   {
    "duration": 2,
    "start_time": "2021-12-17T18:02:49.725Z"
   },
   {
    "duration": 8,
    "start_time": "2021-12-17T18:02:49.729Z"
   },
   {
    "duration": 9,
    "start_time": "2021-12-17T18:02:49.738Z"
   },
   {
    "duration": 2548,
    "start_time": "2021-12-17T18:02:49.748Z"
   },
   {
    "duration": 16,
    "start_time": "2021-12-17T18:02:52.298Z"
   },
   {
    "duration": 6,
    "start_time": "2021-12-17T18:14:03.328Z"
   },
   {
    "duration": 13,
    "start_time": "2021-12-17T18:20:25.891Z"
   },
   {
    "duration": 9,
    "start_time": "2021-12-17T18:23:24.796Z"
   },
   {
    "duration": 8,
    "start_time": "2021-12-17T18:23:28.112Z"
   },
   {
    "duration": 10,
    "start_time": "2021-12-17T18:23:36.650Z"
   },
   {
    "duration": 8,
    "start_time": "2021-12-17T18:23:50.460Z"
   },
   {
    "duration": 10,
    "start_time": "2021-12-17T18:24:12.812Z"
   },
   {
    "duration": 7,
    "start_time": "2021-12-17T18:35:05.389Z"
   },
   {
    "duration": 8,
    "start_time": "2021-12-17T18:43:19.567Z"
   },
   {
    "duration": 9,
    "start_time": "2021-12-17T18:45:38.409Z"
   },
   {
    "duration": 8,
    "start_time": "2021-12-17T19:23:55.214Z"
   },
   {
    "duration": 346,
    "start_time": "2021-12-17T19:25:21.122Z"
   },
   {
    "duration": 1141,
    "start_time": "2021-12-17T19:25:28.636Z"
   },
   {
    "duration": 2,
    "start_time": "2021-12-17T19:25:29.779Z"
   },
   {
    "duration": 11,
    "start_time": "2021-12-17T19:25:29.789Z"
   },
   {
    "duration": 9,
    "start_time": "2021-12-17T19:25:29.803Z"
   },
   {
    "duration": 2467,
    "start_time": "2021-12-17T19:25:29.813Z"
   },
   {
    "duration": 24,
    "start_time": "2021-12-17T19:25:32.281Z"
   },
   {
    "duration": 6,
    "start_time": "2021-12-17T19:25:32.307Z"
   },
   {
    "duration": 13,
    "start_time": "2021-12-17T19:25:32.316Z"
   },
   {
    "duration": 18,
    "start_time": "2021-12-17T19:25:32.331Z"
   },
   {
    "duration": 351,
    "start_time": "2021-12-17T19:25:32.351Z"
   },
   {
    "duration": 1177,
    "start_time": "2021-12-17T19:26:18.315Z"
   },
   {
    "duration": 3,
    "start_time": "2021-12-17T19:26:19.494Z"
   },
   {
    "duration": 10,
    "start_time": "2021-12-17T19:26:19.500Z"
   },
   {
    "duration": 8,
    "start_time": "2021-12-17T19:26:19.512Z"
   },
   {
    "duration": 2009,
    "start_time": "2021-12-17T19:26:19.522Z"
   },
   {
    "duration": 17,
    "start_time": "2021-12-17T19:26:21.532Z"
   },
   {
    "duration": 5,
    "start_time": "2021-12-17T19:26:21.551Z"
   },
   {
    "duration": 10,
    "start_time": "2021-12-17T19:26:21.558Z"
   },
   {
    "duration": 16,
    "start_time": "2021-12-17T19:26:21.570Z"
   },
   {
    "duration": 487,
    "start_time": "2021-12-17T19:26:21.588Z"
   },
   {
    "duration": 9,
    "start_time": "2021-12-17T19:26:41.857Z"
   },
   {
    "duration": 23,
    "start_time": "2021-12-17T19:31:36.703Z"
   },
   {
    "duration": 1130,
    "start_time": "2021-12-17T19:31:54.665Z"
   },
   {
    "duration": 324,
    "start_time": "2021-12-17T19:32:20.556Z"
   },
   {
    "duration": 273,
    "start_time": "2021-12-17T19:34:03.101Z"
   },
   {
    "duration": 23,
    "start_time": "2021-12-17T19:34:56.449Z"
   },
   {
    "duration": 14,
    "start_time": "2021-12-17T19:35:29.174Z"
   },
   {
    "duration": 69,
    "start_time": "2021-12-17T19:36:27.377Z"
   },
   {
    "duration": 68,
    "start_time": "2021-12-17T19:36:57.545Z"
   },
   {
    "duration": 82,
    "start_time": "2021-12-17T19:37:08.311Z"
   },
   {
    "duration": 5,
    "start_time": "2021-12-17T19:37:40.658Z"
   },
   {
    "duration": 13,
    "start_time": "2021-12-17T19:37:52.437Z"
   },
   {
    "duration": 13,
    "start_time": "2021-12-17T19:40:15.120Z"
   },
   {
    "duration": 8,
    "start_time": "2021-12-17T19:40:42.819Z"
   },
   {
    "duration": 87,
    "start_time": "2021-12-17T19:44:28.541Z"
   },
   {
    "duration": 8,
    "start_time": "2021-12-17T19:44:59.623Z"
   },
   {
    "duration": 8,
    "start_time": "2021-12-17T19:45:31.864Z"
   },
   {
    "duration": 9,
    "start_time": "2021-12-17T19:45:49.575Z"
   },
   {
    "duration": 10,
    "start_time": "2021-12-17T19:46:31.811Z"
   },
   {
    "duration": 8,
    "start_time": "2021-12-17T19:47:00.011Z"
   },
   {
    "duration": 11,
    "start_time": "2021-12-17T19:47:24.493Z"
   },
   {
    "duration": 7,
    "start_time": "2021-12-17T19:47:46.226Z"
   },
   {
    "duration": 8,
    "start_time": "2021-12-17T19:48:57.758Z"
   },
   {
    "duration": 316,
    "start_time": "2021-12-17T19:50:02.906Z"
   },
   {
    "duration": 12,
    "start_time": "2021-12-17T19:50:07.112Z"
   },
   {
    "duration": 7,
    "start_time": "2021-12-17T19:50:37.280Z"
   },
   {
    "duration": 10,
    "start_time": "2021-12-17T19:51:00.000Z"
   },
   {
    "duration": 106,
    "start_time": "2021-12-17T19:51:38.631Z"
   },
   {
    "duration": 27,
    "start_time": "2021-12-17T19:51:42.385Z"
   },
   {
    "duration": 28,
    "start_time": "2021-12-17T19:52:02.581Z"
   },
   {
    "duration": 27,
    "start_time": "2021-12-17T19:55:05.811Z"
   },
   {
    "duration": 23,
    "start_time": "2021-12-17T19:55:57.738Z"
   },
   {
    "duration": 12,
    "start_time": "2021-12-17T19:56:31.572Z"
   },
   {
    "duration": 11,
    "start_time": "2021-12-17T19:56:36.571Z"
   },
   {
    "duration": 21,
    "start_time": "2021-12-17T19:56:41.752Z"
   },
   {
    "duration": 33,
    "start_time": "2021-12-17T19:58:26.726Z"
   },
   {
    "duration": 14,
    "start_time": "2021-12-17T19:58:36.937Z"
   },
   {
    "duration": 29,
    "start_time": "2021-12-17T19:58:59.374Z"
   },
   {
    "duration": 17,
    "start_time": "2021-12-17T19:59:19.858Z"
   },
   {
    "duration": 249,
    "start_time": "2021-12-17T20:05:18.510Z"
   },
   {
    "duration": 17,
    "start_time": "2021-12-17T20:05:53.700Z"
   },
   {
    "duration": 12,
    "start_time": "2021-12-17T20:05:57.520Z"
   },
   {
    "duration": 16,
    "start_time": "2021-12-17T20:06:01.795Z"
   },
   {
    "duration": 1194,
    "start_time": "2021-12-17T20:06:07.775Z"
   },
   {
    "duration": 2,
    "start_time": "2021-12-17T20:06:08.971Z"
   },
   {
    "duration": 13,
    "start_time": "2021-12-17T20:06:08.975Z"
   },
   {
    "duration": 11,
    "start_time": "2021-12-17T20:06:08.991Z"
   },
   {
    "duration": 2719,
    "start_time": "2021-12-17T20:06:09.004Z"
   },
   {
    "duration": 16,
    "start_time": "2021-12-17T20:06:11.724Z"
   },
   {
    "duration": 5,
    "start_time": "2021-12-17T20:06:11.741Z"
   },
   {
    "duration": 15,
    "start_time": "2021-12-17T20:06:11.749Z"
   },
   {
    "duration": 27,
    "start_time": "2021-12-17T20:06:11.765Z"
   },
   {
    "duration": 9,
    "start_time": "2021-12-17T20:06:11.794Z"
   },
   {
    "duration": 14,
    "start_time": "2021-12-17T20:06:11.805Z"
   },
   {
    "duration": 1560,
    "start_time": "2021-12-17T20:06:11.821Z"
   },
   {
    "duration": 337,
    "start_time": "2021-12-17T20:06:13.383Z"
   },
   {
    "duration": 15,
    "start_time": "2021-12-17T20:06:25.563Z"
   },
   {
    "duration": 13,
    "start_time": "2021-12-17T20:06:53.559Z"
   },
   {
    "duration": 12,
    "start_time": "2021-12-17T20:07:09.919Z"
   },
   {
    "duration": 12,
    "start_time": "2021-12-17T20:07:13.644Z"
   },
   {
    "duration": 344,
    "start_time": "2021-12-17T20:07:40.945Z"
   },
   {
    "duration": 21,
    "start_time": "2021-12-17T20:08:01.625Z"
   },
   {
    "duration": 25,
    "start_time": "2021-12-17T20:16:31.069Z"
   },
   {
    "duration": 8,
    "start_time": "2021-12-17T22:17:54.735Z"
   },
   {
    "duration": 19,
    "start_time": "2021-12-17T22:18:01.106Z"
   },
   {
    "duration": 1124,
    "start_time": "2021-12-17T22:18:39.511Z"
   },
   {
    "duration": 3,
    "start_time": "2021-12-17T22:18:40.637Z"
   },
   {
    "duration": 7,
    "start_time": "2021-12-17T22:18:40.642Z"
   },
   {
    "duration": 7,
    "start_time": "2021-12-17T22:18:40.651Z"
   },
   {
    "duration": 2537,
    "start_time": "2021-12-17T22:18:40.660Z"
   },
   {
    "duration": 17,
    "start_time": "2021-12-17T22:18:43.199Z"
   },
   {
    "duration": 6,
    "start_time": "2021-12-17T22:18:43.217Z"
   },
   {
    "duration": 9,
    "start_time": "2021-12-17T22:18:43.225Z"
   },
   {
    "duration": 11,
    "start_time": "2021-12-17T22:18:43.235Z"
   },
   {
    "duration": 8,
    "start_time": "2021-12-17T22:18:43.248Z"
   },
   {
    "duration": 45,
    "start_time": "2021-12-17T22:18:43.258Z"
   },
   {
    "duration": 20,
    "start_time": "2021-12-17T22:20:08.597Z"
   },
   {
    "duration": 13,
    "start_time": "2021-12-17T22:20:30.511Z"
   },
   {
    "duration": 12,
    "start_time": "2021-12-17T22:21:17.141Z"
   },
   {
    "duration": 18,
    "start_time": "2021-12-17T22:24:07.942Z"
   },
   {
    "duration": 11,
    "start_time": "2021-12-17T22:24:41.233Z"
   },
   {
    "duration": 6367,
    "start_time": "2021-12-17T22:40:09.865Z"
   },
   {
    "duration": 17,
    "start_time": "2021-12-17T22:40:40.251Z"
   },
   {
    "duration": 17,
    "start_time": "2021-12-17T22:41:50.151Z"
   },
   {
    "duration": 17,
    "start_time": "2021-12-17T22:42:29.253Z"
   },
   {
    "duration": 16,
    "start_time": "2021-12-17T22:42:51.630Z"
   },
   {
    "duration": 16,
    "start_time": "2021-12-17T22:43:23.079Z"
   },
   {
    "duration": 18,
    "start_time": "2021-12-17T22:43:55.814Z"
   },
   {
    "duration": 17,
    "start_time": "2021-12-17T22:44:14.397Z"
   },
   {
    "duration": 17,
    "start_time": "2021-12-17T23:15:51.382Z"
   },
   {
    "duration": 16,
    "start_time": "2021-12-17T23:16:10.978Z"
   },
   {
    "duration": 14,
    "start_time": "2021-12-18T01:11:05.234Z"
   },
   {
    "duration": 6,
    "start_time": "2021-12-18T01:11:28.266Z"
   },
   {
    "duration": 14,
    "start_time": "2021-12-18T01:11:38.513Z"
   },
   {
    "duration": 7023,
    "start_time": "2021-12-18T01:12:53.698Z"
   },
   {
    "duration": 7442,
    "start_time": "2021-12-18T01:13:01.205Z"
   },
   {
    "duration": 1154,
    "start_time": "2021-12-18T01:13:10.946Z"
   },
   {
    "duration": 3,
    "start_time": "2021-12-18T01:13:12.101Z"
   },
   {
    "duration": 15,
    "start_time": "2021-12-18T01:13:12.106Z"
   },
   {
    "duration": 11,
    "start_time": "2021-12-18T01:13:12.124Z"
   },
   {
    "duration": 2384,
    "start_time": "2021-12-18T01:13:12.137Z"
   },
   {
    "duration": 18,
    "start_time": "2021-12-18T01:13:14.524Z"
   },
   {
    "duration": 7,
    "start_time": "2021-12-18T01:13:14.543Z"
   },
   {
    "duration": 38,
    "start_time": "2021-12-18T01:13:14.552Z"
   },
   {
    "duration": 12,
    "start_time": "2021-12-18T01:13:14.592Z"
   },
   {
    "duration": 10,
    "start_time": "2021-12-18T01:13:14.605Z"
   },
   {
    "duration": 7613,
    "start_time": "2021-12-18T01:13:14.617Z"
   },
   {
    "duration": 6711,
    "start_time": "2021-12-18T01:13:23.858Z"
   },
   {
    "duration": 6,
    "start_time": "2021-12-18T01:13:41.765Z"
   },
   {
    "duration": 15,
    "start_time": "2021-12-18T01:37:29.968Z"
   },
   {
    "duration": 15,
    "start_time": "2021-12-18T01:40:34.721Z"
   },
   {
    "duration": 27,
    "start_time": "2021-12-18T02:39:17.437Z"
   },
   {
    "duration": 4,
    "start_time": "2021-12-18T02:41:34.088Z"
   },
   {
    "duration": 34,
    "start_time": "2021-12-18T02:56:46.537Z"
   },
   {
    "duration": 6,
    "start_time": "2021-12-18T02:58:36.414Z"
   },
   {
    "duration": 4,
    "start_time": "2021-12-18T02:58:51.841Z"
   },
   {
    "duration": 6,
    "start_time": "2021-12-18T02:59:01.656Z"
   },
   {
    "duration": 5,
    "start_time": "2021-12-18T03:29:09.931Z"
   },
   {
    "duration": 264,
    "start_time": "2021-12-18T03:34:08.133Z"
   },
   {
    "duration": 1238,
    "start_time": "2021-12-18T03:34:33.771Z"
   },
   {
    "duration": 2,
    "start_time": "2021-12-18T03:34:35.012Z"
   },
   {
    "duration": 8,
    "start_time": "2021-12-18T03:34:35.016Z"
   },
   {
    "duration": 12,
    "start_time": "2021-12-18T03:34:35.026Z"
   },
   {
    "duration": 2505,
    "start_time": "2021-12-18T03:34:35.040Z"
   },
   {
    "duration": 17,
    "start_time": "2021-12-18T03:34:37.547Z"
   },
   {
    "duration": 7,
    "start_time": "2021-12-18T03:34:37.566Z"
   },
   {
    "duration": 8,
    "start_time": "2021-12-18T03:34:37.589Z"
   },
   {
    "duration": 34,
    "start_time": "2021-12-18T03:34:37.598Z"
   },
   {
    "duration": 25,
    "start_time": "2021-12-18T03:34:37.633Z"
   },
   {
    "duration": 22,
    "start_time": "2021-12-18T03:34:37.659Z"
   },
   {
    "duration": 15,
    "start_time": "2021-12-18T03:34:37.682Z"
   },
   {
    "duration": 21,
    "start_time": "2021-12-18T03:34:37.698Z"
   },
   {
    "duration": 10,
    "start_time": "2021-12-18T03:34:37.721Z"
   },
   {
    "duration": 8,
    "start_time": "2021-12-18T03:34:37.732Z"
   },
   {
    "duration": 7,
    "start_time": "2021-12-18T03:34:37.741Z"
   },
   {
    "duration": 352,
    "start_time": "2021-12-18T03:34:37.749Z"
   },
   {
    "duration": -167,
    "start_time": "2021-12-18T03:34:38.269Z"
   },
   {
    "duration": -173,
    "start_time": "2021-12-18T03:34:38.276Z"
   },
   {
    "duration": 12,
    "start_time": "2021-12-18T03:35:44.240Z"
   },
   {
    "duration": 407,
    "start_time": "2021-12-18T03:39:40.752Z"
   },
   {
    "duration": 1097,
    "start_time": "2021-12-18T03:39:56.120Z"
   },
   {
    "duration": 2,
    "start_time": "2021-12-18T03:39:57.219Z"
   },
   {
    "duration": 73,
    "start_time": "2021-12-18T03:39:57.223Z"
   },
   {
    "duration": 32,
    "start_time": "2021-12-18T03:39:57.298Z"
   },
   {
    "duration": 1835,
    "start_time": "2021-12-18T03:39:57.332Z"
   },
   {
    "duration": 21,
    "start_time": "2021-12-18T03:39:59.168Z"
   },
   {
    "duration": 5,
    "start_time": "2021-12-18T03:39:59.191Z"
   },
   {
    "duration": 34,
    "start_time": "2021-12-18T03:39:59.198Z"
   },
   {
    "duration": 16,
    "start_time": "2021-12-18T03:39:59.234Z"
   },
   {
    "duration": 9,
    "start_time": "2021-12-18T03:39:59.251Z"
   },
   {
    "duration": 14,
    "start_time": "2021-12-18T03:39:59.262Z"
   },
   {
    "duration": 18,
    "start_time": "2021-12-18T03:39:59.277Z"
   },
   {
    "duration": 16,
    "start_time": "2021-12-18T03:39:59.296Z"
   },
   {
    "duration": 4,
    "start_time": "2021-12-18T03:39:59.313Z"
   },
   {
    "duration": 7,
    "start_time": "2021-12-18T03:39:59.318Z"
   },
   {
    "duration": 6,
    "start_time": "2021-12-18T03:39:59.326Z"
   },
   {
    "duration": 18,
    "start_time": "2021-12-18T03:39:59.333Z"
   },
   {
    "duration": 6,
    "start_time": "2021-12-18T03:39:59.352Z"
   },
   {
    "duration": 28,
    "start_time": "2021-12-18T03:39:59.359Z"
   },
   {
    "duration": 12,
    "start_time": "2021-12-18T03:40:26.602Z"
   },
   {
    "duration": 352,
    "start_time": "2021-12-18T03:40:29.264Z"
   },
   {
    "duration": 1090,
    "start_time": "2021-12-18T03:40:37.636Z"
   },
   {
    "duration": 2,
    "start_time": "2021-12-18T03:40:38.728Z"
   },
   {
    "duration": 7,
    "start_time": "2021-12-18T03:40:38.732Z"
   },
   {
    "duration": 6,
    "start_time": "2021-12-18T03:40:38.741Z"
   },
   {
    "duration": 2068,
    "start_time": "2021-12-18T03:40:38.749Z"
   },
   {
    "duration": 18,
    "start_time": "2021-12-18T03:40:40.819Z"
   },
   {
    "duration": 17,
    "start_time": "2021-12-18T03:40:40.839Z"
   },
   {
    "duration": 29,
    "start_time": "2021-12-18T03:40:40.858Z"
   },
   {
    "duration": 19,
    "start_time": "2021-12-18T03:40:40.890Z"
   },
   {
    "duration": 18,
    "start_time": "2021-12-18T03:40:40.911Z"
   },
   {
    "duration": 36,
    "start_time": "2021-12-18T03:40:40.931Z"
   },
   {
    "duration": 16,
    "start_time": "2021-12-18T03:40:40.969Z"
   },
   {
    "duration": 30,
    "start_time": "2021-12-18T03:40:40.987Z"
   },
   {
    "duration": 19,
    "start_time": "2021-12-18T03:40:41.019Z"
   },
   {
    "duration": 19,
    "start_time": "2021-12-18T03:40:41.040Z"
   },
   {
    "duration": 28,
    "start_time": "2021-12-18T03:40:41.061Z"
   },
   {
    "duration": 24,
    "start_time": "2021-12-18T03:40:41.090Z"
   },
   {
    "duration": 8,
    "start_time": "2021-12-18T03:40:41.115Z"
   },
   {
    "duration": 22,
    "start_time": "2021-12-18T03:40:41.124Z"
   },
   {
    "duration": 4,
    "start_time": "2021-12-18T03:43:08.628Z"
   },
   {
    "duration": 1370,
    "start_time": "2021-12-18T03:43:29.962Z"
   },
   {
    "duration": 3,
    "start_time": "2021-12-18T03:43:31.333Z"
   },
   {
    "duration": 7,
    "start_time": "2021-12-18T03:43:31.338Z"
   },
   {
    "duration": 18,
    "start_time": "2021-12-18T03:43:31.347Z"
   },
   {
    "duration": 1907,
    "start_time": "2021-12-18T03:43:31.366Z"
   },
   {
    "duration": 21,
    "start_time": "2021-12-18T03:43:33.274Z"
   },
   {
    "duration": 6,
    "start_time": "2021-12-18T03:43:33.296Z"
   },
   {
    "duration": 10,
    "start_time": "2021-12-18T03:43:33.303Z"
   },
   {
    "duration": 11,
    "start_time": "2021-12-18T03:43:33.315Z"
   },
   {
    "duration": 8,
    "start_time": "2021-12-18T03:43:33.327Z"
   },
   {
    "duration": 14,
    "start_time": "2021-12-18T03:43:33.337Z"
   },
   {
    "duration": 48,
    "start_time": "2021-12-18T03:43:33.353Z"
   },
   {
    "duration": 20,
    "start_time": "2021-12-18T03:43:33.403Z"
   },
   {
    "duration": 4,
    "start_time": "2021-12-18T03:43:33.424Z"
   },
   {
    "duration": 7,
    "start_time": "2021-12-18T03:43:33.430Z"
   },
   {
    "duration": 7,
    "start_time": "2021-12-18T03:43:33.438Z"
   },
   {
    "duration": 5,
    "start_time": "2021-12-18T03:43:33.446Z"
   },
   {
    "duration": 39,
    "start_time": "2021-12-18T03:43:33.453Z"
   },
   {
    "duration": 1,
    "start_time": "2021-12-18T03:43:33.494Z"
   },
   {
    "duration": 4,
    "start_time": "2021-12-18T03:50:39.625Z"
   },
   {
    "duration": 4,
    "start_time": "2021-12-18T03:56:11.791Z"
   },
   {
    "duration": 11,
    "start_time": "2021-12-18T03:56:24.608Z"
   },
   {
    "duration": 7,
    "start_time": "2021-12-18T03:56:45.423Z"
   },
   {
    "duration": 18,
    "start_time": "2021-12-18T03:56:56.094Z"
   },
   {
    "duration": 15,
    "start_time": "2021-12-18T03:57:43.882Z"
   },
   {
    "duration": 18,
    "start_time": "2021-12-18T03:58:17.392Z"
   },
   {
    "duration": 1087,
    "start_time": "2021-12-18T03:59:01.937Z"
   },
   {
    "duration": 2,
    "start_time": "2021-12-18T03:59:03.026Z"
   },
   {
    "duration": 19,
    "start_time": "2021-12-18T03:59:03.030Z"
   },
   {
    "duration": 22,
    "start_time": "2021-12-18T03:59:03.051Z"
   },
   {
    "duration": 2200,
    "start_time": "2021-12-18T03:59:03.075Z"
   },
   {
    "duration": 20,
    "start_time": "2021-12-18T03:59:05.277Z"
   },
   {
    "duration": 9,
    "start_time": "2021-12-18T03:59:05.298Z"
   },
   {
    "duration": 16,
    "start_time": "2021-12-18T03:59:05.308Z"
   },
   {
    "duration": 28,
    "start_time": "2021-12-18T03:59:05.326Z"
   },
   {
    "duration": 15,
    "start_time": "2021-12-18T03:59:05.355Z"
   },
   {
    "duration": 16,
    "start_time": "2021-12-18T03:59:05.371Z"
   },
   {
    "duration": 23,
    "start_time": "2021-12-18T03:59:05.388Z"
   },
   {
    "duration": 28,
    "start_time": "2021-12-18T03:59:05.413Z"
   },
   {
    "duration": 16,
    "start_time": "2021-12-18T03:59:05.443Z"
   },
   {
    "duration": 16,
    "start_time": "2021-12-18T03:59:05.460Z"
   },
   {
    "duration": 13,
    "start_time": "2021-12-18T03:59:05.477Z"
   },
   {
    "duration": 20,
    "start_time": "2021-12-18T03:59:05.491Z"
   },
   {
    "duration": 4,
    "start_time": "2021-12-18T03:59:05.513Z"
   },
   {
    "duration": 19,
    "start_time": "2021-12-18T03:59:05.519Z"
   },
   {
    "duration": 17,
    "start_time": "2021-12-18T03:59:05.540Z"
   },
   {
    "duration": 1139,
    "start_time": "2021-12-18T04:00:41.169Z"
   },
   {
    "duration": 2,
    "start_time": "2021-12-18T04:00:42.310Z"
   },
   {
    "duration": 14,
    "start_time": "2021-12-18T04:00:42.314Z"
   },
   {
    "duration": 8,
    "start_time": "2021-12-18T04:00:42.330Z"
   },
   {
    "duration": 1890,
    "start_time": "2021-12-18T04:00:42.339Z"
   },
   {
    "duration": 17,
    "start_time": "2021-12-18T04:00:44.230Z"
   },
   {
    "duration": 5,
    "start_time": "2021-12-18T04:00:44.249Z"
   },
   {
    "duration": 10,
    "start_time": "2021-12-18T04:00:44.256Z"
   },
   {
    "duration": 23,
    "start_time": "2021-12-18T04:00:44.268Z"
   },
   {
    "duration": 9,
    "start_time": "2021-12-18T04:00:44.293Z"
   },
   {
    "duration": 13,
    "start_time": "2021-12-18T04:00:44.303Z"
   },
   {
    "duration": 14,
    "start_time": "2021-12-18T04:00:44.318Z"
   },
   {
    "duration": 18,
    "start_time": "2021-12-18T04:00:44.333Z"
   },
   {
    "duration": 4,
    "start_time": "2021-12-18T04:00:44.352Z"
   },
   {
    "duration": 32,
    "start_time": "2021-12-18T04:00:44.358Z"
   },
   {
    "duration": 6,
    "start_time": "2021-12-18T04:00:44.391Z"
   },
   {
    "duration": 15,
    "start_time": "2021-12-18T04:00:44.398Z"
   },
   {
    "duration": 3,
    "start_time": "2021-12-18T04:00:44.414Z"
   },
   {
    "duration": 16,
    "start_time": "2021-12-18T04:00:44.419Z"
   },
   {
    "duration": 13,
    "start_time": "2021-12-18T04:00:44.437Z"
   },
   {
    "duration": 6,
    "start_time": "2021-12-18T04:04:43.978Z"
   },
   {
    "duration": 84,
    "start_time": "2021-12-18T04:04:57.578Z"
   },
   {
    "duration": 78,
    "start_time": "2021-12-18T04:05:25.326Z"
   },
   {
    "duration": 1140,
    "start_time": "2021-12-18T04:10:12.276Z"
   },
   {
    "duration": 2,
    "start_time": "2021-12-18T04:10:13.417Z"
   },
   {
    "duration": 8,
    "start_time": "2021-12-18T04:10:13.421Z"
   },
   {
    "duration": 7,
    "start_time": "2021-12-18T04:10:13.430Z"
   },
   {
    "duration": 1886,
    "start_time": "2021-12-18T04:10:13.439Z"
   },
   {
    "duration": 16,
    "start_time": "2021-12-18T04:10:15.326Z"
   },
   {
    "duration": 5,
    "start_time": "2021-12-18T04:10:15.344Z"
   },
   {
    "duration": 9,
    "start_time": "2021-12-18T04:10:15.352Z"
   },
   {
    "duration": 27,
    "start_time": "2021-12-18T04:10:15.362Z"
   },
   {
    "duration": 8,
    "start_time": "2021-12-18T04:10:15.391Z"
   },
   {
    "duration": 13,
    "start_time": "2021-12-18T04:10:15.401Z"
   },
   {
    "duration": 14,
    "start_time": "2021-12-18T04:10:15.416Z"
   },
   {
    "duration": 16,
    "start_time": "2021-12-18T04:10:15.432Z"
   },
   {
    "duration": 365,
    "start_time": "2021-12-18T04:10:15.450Z"
   },
   {
    "duration": -162,
    "start_time": "2021-12-18T04:10:15.979Z"
   },
   {
    "duration": -164,
    "start_time": "2021-12-18T04:10:15.983Z"
   },
   {
    "duration": -165,
    "start_time": "2021-12-18T04:10:15.985Z"
   },
   {
    "duration": -167,
    "start_time": "2021-12-18T04:10:15.988Z"
   },
   {
    "duration": -167,
    "start_time": "2021-12-18T04:10:15.990Z"
   },
   {
    "duration": -168,
    "start_time": "2021-12-18T04:10:15.992Z"
   },
   {
    "duration": -183,
    "start_time": "2021-12-18T04:10:16.008Z"
   },
   {
    "duration": 1156,
    "start_time": "2021-12-18T04:10:39.960Z"
   },
   {
    "duration": 2,
    "start_time": "2021-12-18T04:10:41.118Z"
   },
   {
    "duration": 8,
    "start_time": "2021-12-18T04:10:41.122Z"
   },
   {
    "duration": 6,
    "start_time": "2021-12-18T04:10:41.132Z"
   },
   {
    "duration": 1811,
    "start_time": "2021-12-18T04:10:41.140Z"
   },
   {
    "duration": 17,
    "start_time": "2021-12-18T04:10:42.952Z"
   },
   {
    "duration": 5,
    "start_time": "2021-12-18T04:10:42.971Z"
   },
   {
    "duration": 8,
    "start_time": "2021-12-18T04:10:42.988Z"
   },
   {
    "duration": 10,
    "start_time": "2021-12-18T04:10:42.998Z"
   },
   {
    "duration": 9,
    "start_time": "2021-12-18T04:10:43.009Z"
   },
   {
    "duration": 14,
    "start_time": "2021-12-18T04:10:43.020Z"
   },
   {
    "duration": 15,
    "start_time": "2021-12-18T04:10:43.035Z"
   },
   {
    "duration": 50,
    "start_time": "2021-12-18T04:10:43.052Z"
   },
   {
    "duration": 5,
    "start_time": "2021-12-18T04:10:43.103Z"
   },
   {
    "duration": 5,
    "start_time": "2021-12-18T04:10:43.110Z"
   },
   {
    "duration": 4,
    "start_time": "2021-12-18T04:10:43.116Z"
   },
   {
    "duration": 4,
    "start_time": "2021-12-18T04:10:43.122Z"
   },
   {
    "duration": 14,
    "start_time": "2021-12-18T04:10:43.128Z"
   },
   {
    "duration": 4,
    "start_time": "2021-12-18T04:10:43.143Z"
   },
   {
    "duration": 53,
    "start_time": "2021-12-18T04:10:43.149Z"
   },
   {
    "duration": 12,
    "start_time": "2021-12-18T04:10:43.203Z"
   },
   {
    "duration": 8891,
    "start_time": "2021-12-18T04:17:12.032Z"
   },
   {
    "duration": 1153,
    "start_time": "2021-12-18T04:17:46.652Z"
   },
   {
    "duration": 2,
    "start_time": "2021-12-18T04:17:47.807Z"
   },
   {
    "duration": 9,
    "start_time": "2021-12-18T04:17:47.811Z"
   },
   {
    "duration": 8,
    "start_time": "2021-12-18T04:17:47.822Z"
   },
   {
    "duration": 1985,
    "start_time": "2021-12-18T04:17:47.831Z"
   },
   {
    "duration": 16,
    "start_time": "2021-12-18T04:17:49.818Z"
   },
   {
    "duration": 5,
    "start_time": "2021-12-18T04:17:49.836Z"
   },
   {
    "duration": 10,
    "start_time": "2021-12-18T04:17:49.843Z"
   },
   {
    "duration": 10,
    "start_time": "2021-12-18T04:17:49.854Z"
   },
   {
    "duration": 31,
    "start_time": "2021-12-18T04:17:49.865Z"
   },
   {
    "duration": 14,
    "start_time": "2021-12-18T04:17:49.897Z"
   },
   {
    "duration": 15,
    "start_time": "2021-12-18T04:17:49.912Z"
   },
   {
    "duration": 19,
    "start_time": "2021-12-18T04:17:49.928Z"
   },
   {
    "duration": 4,
    "start_time": "2021-12-18T04:17:49.949Z"
   },
   {
    "duration": 9,
    "start_time": "2021-12-18T04:17:49.954Z"
   },
   {
    "duration": 25,
    "start_time": "2021-12-18T04:17:49.964Z"
   },
   {
    "duration": 6,
    "start_time": "2021-12-18T04:17:49.991Z"
   },
   {
    "duration": 18,
    "start_time": "2021-12-18T04:17:49.998Z"
   },
   {
    "duration": 7,
    "start_time": "2021-12-18T04:17:50.017Z"
   },
   {
    "duration": 8128,
    "start_time": "2021-12-18T04:17:50.025Z"
   },
   {
    "duration": -260,
    "start_time": "2021-12-18T04:17:58.415Z"
   },
   {
    "duration": 9314,
    "start_time": "2021-12-18T04:19:16.283Z"
   },
   {
    "duration": 1075,
    "start_time": "2021-12-18T04:19:34.744Z"
   },
   {
    "duration": 2,
    "start_time": "2021-12-18T04:19:35.821Z"
   },
   {
    "duration": 10,
    "start_time": "2021-12-18T04:19:35.825Z"
   },
   {
    "duration": 8,
    "start_time": "2021-12-18T04:19:35.836Z"
   },
   {
    "duration": 1696,
    "start_time": "2021-12-18T04:19:35.846Z"
   },
   {
    "duration": 16,
    "start_time": "2021-12-18T04:19:37.544Z"
   },
   {
    "duration": 5,
    "start_time": "2021-12-18T04:19:37.562Z"
   },
   {
    "duration": 22,
    "start_time": "2021-12-18T04:19:37.569Z"
   },
   {
    "duration": 10,
    "start_time": "2021-12-18T04:19:37.593Z"
   },
   {
    "duration": 9,
    "start_time": "2021-12-18T04:19:37.604Z"
   },
   {
    "duration": 15,
    "start_time": "2021-12-18T04:19:37.614Z"
   },
   {
    "duration": 15,
    "start_time": "2021-12-18T04:19:37.631Z"
   },
   {
    "duration": 46,
    "start_time": "2021-12-18T04:19:37.648Z"
   },
   {
    "duration": 3,
    "start_time": "2021-12-18T04:19:37.696Z"
   },
   {
    "duration": 5,
    "start_time": "2021-12-18T04:19:37.701Z"
   },
   {
    "duration": 5,
    "start_time": "2021-12-18T04:19:37.708Z"
   },
   {
    "duration": 5,
    "start_time": "2021-12-18T04:19:37.714Z"
   },
   {
    "duration": 13,
    "start_time": "2021-12-18T04:19:37.720Z"
   },
   {
    "duration": 4,
    "start_time": "2021-12-18T04:19:37.734Z"
   },
   {
    "duration": 50,
    "start_time": "2021-12-18T04:19:37.739Z"
   },
   {
    "duration": 8,
    "start_time": "2021-12-18T04:24:58.756Z"
   },
   {
    "duration": 1120,
    "start_time": "2021-12-18T05:14:55.807Z"
   },
   {
    "duration": 2,
    "start_time": "2021-12-18T05:14:56.929Z"
   },
   {
    "duration": 7,
    "start_time": "2021-12-18T05:14:56.933Z"
   },
   {
    "duration": 7,
    "start_time": "2021-12-18T05:14:56.942Z"
   },
   {
    "duration": 2308,
    "start_time": "2021-12-18T05:14:56.950Z"
   },
   {
    "duration": 18,
    "start_time": "2021-12-18T05:14:59.259Z"
   },
   {
    "duration": 6,
    "start_time": "2021-12-18T05:14:59.288Z"
   },
   {
    "duration": 10,
    "start_time": "2021-12-18T05:14:59.296Z"
   },
   {
    "duration": 26,
    "start_time": "2021-12-18T05:14:59.309Z"
   },
   {
    "duration": 9,
    "start_time": "2021-12-18T05:14:59.337Z"
   },
   {
    "duration": 18,
    "start_time": "2021-12-18T05:14:59.348Z"
   },
   {
    "duration": 27,
    "start_time": "2021-12-18T05:14:59.368Z"
   },
   {
    "duration": 28,
    "start_time": "2021-12-18T05:14:59.397Z"
   },
   {
    "duration": 5,
    "start_time": "2021-12-18T05:14:59.426Z"
   },
   {
    "duration": 5,
    "start_time": "2021-12-18T05:14:59.432Z"
   },
   {
    "duration": 4,
    "start_time": "2021-12-18T05:14:59.438Z"
   },
   {
    "duration": 7,
    "start_time": "2021-12-18T05:14:59.444Z"
   },
   {
    "duration": 19,
    "start_time": "2021-12-18T05:14:59.452Z"
   },
   {
    "duration": 5,
    "start_time": "2021-12-18T05:14:59.487Z"
   },
   {
    "duration": 22,
    "start_time": "2021-12-18T05:14:59.493Z"
   },
   {
    "duration": 7,
    "start_time": "2021-12-18T05:14:59.517Z"
   },
   {
    "duration": 2070,
    "start_time": "2021-12-18T05:14:59.526Z"
   },
   {
    "duration": 1136,
    "start_time": "2021-12-18T05:31:21.267Z"
   },
   {
    "duration": 1609,
    "start_time": "2021-12-18T05:31:31.479Z"
   },
   {
    "duration": 1570,
    "start_time": "2021-12-18T06:02:47.593Z"
   },
   {
    "duration": 465,
    "start_time": "2021-12-18T06:03:10.951Z"
   },
   {
    "duration": 269,
    "start_time": "2021-12-18T06:03:46.274Z"
   },
   {
    "duration": 596,
    "start_time": "2021-12-18T06:03:58.355Z"
   },
   {
    "duration": 212,
    "start_time": "2021-12-18T06:04:14.377Z"
   },
   {
    "duration": 107,
    "start_time": "2021-12-18T06:04:25.278Z"
   },
   {
    "duration": 6,
    "start_time": "2021-12-18T06:08:12.035Z"
   },
   {
    "duration": 3,
    "start_time": "2021-12-18T06:12:55.344Z"
   },
   {
    "duration": 3,
    "start_time": "2021-12-18T06:13:23.825Z"
   },
   {
    "duration": 3,
    "start_time": "2021-12-18T06:13:25.906Z"
   },
   {
    "duration": 4,
    "start_time": "2021-12-18T06:13:29.081Z"
   },
   {
    "duration": 8,
    "start_time": "2021-12-18T06:18:46.511Z"
   },
   {
    "duration": 1110,
    "start_time": "2021-12-18T06:18:46.521Z"
   },
   {
    "duration": 2,
    "start_time": "2021-12-18T06:18:47.633Z"
   },
   {
    "duration": 7,
    "start_time": "2021-12-18T06:18:47.637Z"
   },
   {
    "duration": 2320,
    "start_time": "2021-12-18T06:18:47.645Z"
   },
   {
    "duration": 26,
    "start_time": "2021-12-18T06:18:49.967Z"
   },
   {
    "duration": 6,
    "start_time": "2021-12-18T06:18:49.995Z"
   },
   {
    "duration": 21,
    "start_time": "2021-12-18T06:18:50.003Z"
   },
   {
    "duration": 13,
    "start_time": "2021-12-18T06:18:50.028Z"
   },
   {
    "duration": 10,
    "start_time": "2021-12-18T06:18:50.044Z"
   },
   {
    "duration": 35,
    "start_time": "2021-12-18T06:18:50.056Z"
   },
   {
    "duration": 15,
    "start_time": "2021-12-18T06:18:50.093Z"
   },
   {
    "duration": 25,
    "start_time": "2021-12-18T06:18:50.110Z"
   },
   {
    "duration": 5,
    "start_time": "2021-12-18T06:18:50.136Z"
   },
   {
    "duration": 10,
    "start_time": "2021-12-18T06:18:50.142Z"
   },
   {
    "duration": 5,
    "start_time": "2021-12-18T06:18:50.153Z"
   },
   {
    "duration": 5,
    "start_time": "2021-12-18T06:18:50.160Z"
   },
   {
    "duration": 32,
    "start_time": "2021-12-18T06:18:50.167Z"
   },
   {
    "duration": 6,
    "start_time": "2021-12-18T06:18:50.201Z"
   },
   {
    "duration": 21,
    "start_time": "2021-12-18T06:18:50.208Z"
   },
   {
    "duration": 7,
    "start_time": "2021-12-18T06:18:50.230Z"
   },
   {
    "duration": 1757,
    "start_time": "2021-12-18T06:18:50.239Z"
   },
   {
    "duration": 1490,
    "start_time": "2021-12-18T06:18:51.997Z"
   },
   {
    "duration": 442,
    "start_time": "2021-12-18T06:18:53.489Z"
   },
   {
    "duration": 4,
    "start_time": "2021-12-18T06:18:53.932Z"
   },
   {
    "duration": 275,
    "start_time": "2021-12-18T06:18:53.937Z"
   },
   {
    "duration": 665,
    "start_time": "2021-12-18T06:18:54.214Z"
   },
   {
    "duration": 193,
    "start_time": "2021-12-18T06:18:54.881Z"
   },
   {
    "duration": 113,
    "start_time": "2021-12-18T06:18:55.075Z"
   },
   {
    "duration": 2,
    "start_time": "2021-12-18T06:18:55.190Z"
   },
   {
    "duration": 10,
    "start_time": "2021-12-18T06:18:55.194Z"
   },
   {
    "duration": 3,
    "start_time": "2021-12-18T06:18:55.206Z"
   },
   {
    "duration": 4,
    "start_time": "2021-12-18T06:18:55.211Z"
   },
   {
    "duration": 10,
    "start_time": "2021-12-18T06:18:55.216Z"
   },
   {
    "duration": 1469,
    "start_time": "2021-12-18T06:18:55.227Z"
   },
   {
    "duration": 11516,
    "start_time": "2021-12-18T06:18:56.699Z"
   },
   {
    "duration": 1416,
    "start_time": "2021-12-18T06:19:08.217Z"
   },
   {
    "duration": 60816,
    "start_time": "2021-12-18T06:19:09.634Z"
   },
   {
    "duration": 8,
    "start_time": "2021-12-18T06:20:39.202Z"
   },
   {
    "duration": 1203,
    "start_time": "2021-12-18T06:20:39.211Z"
   },
   {
    "duration": 2,
    "start_time": "2021-12-18T06:20:40.416Z"
   },
   {
    "duration": 7,
    "start_time": "2021-12-18T06:20:40.420Z"
   },
   {
    "duration": 2049,
    "start_time": "2021-12-18T06:20:40.428Z"
   },
   {
    "duration": 20,
    "start_time": "2021-12-18T06:20:42.479Z"
   },
   {
    "duration": 5,
    "start_time": "2021-12-18T06:20:42.501Z"
   },
   {
    "duration": 9,
    "start_time": "2021-12-18T06:20:42.508Z"
   },
   {
    "duration": 10,
    "start_time": "2021-12-18T06:20:42.519Z"
   },
   {
    "duration": 9,
    "start_time": "2021-12-18T06:20:42.531Z"
   },
   {
    "duration": 14,
    "start_time": "2021-12-18T06:20:42.541Z"
   },
   {
    "duration": 15,
    "start_time": "2021-12-18T06:20:42.588Z"
   },
   {
    "duration": 19,
    "start_time": "2021-12-18T06:20:42.605Z"
   },
   {
    "duration": 4,
    "start_time": "2021-12-18T06:20:42.625Z"
   },
   {
    "duration": 4,
    "start_time": "2021-12-18T06:20:42.630Z"
   },
   {
    "duration": 4,
    "start_time": "2021-12-18T06:20:42.636Z"
   },
   {
    "duration": 4,
    "start_time": "2021-12-18T06:20:42.642Z"
   },
   {
    "duration": 41,
    "start_time": "2021-12-18T06:20:42.648Z"
   },
   {
    "duration": 4,
    "start_time": "2021-12-18T06:20:42.691Z"
   },
   {
    "duration": 21,
    "start_time": "2021-12-18T06:20:42.697Z"
   },
   {
    "duration": 6,
    "start_time": "2021-12-18T06:20:42.719Z"
   },
   {
    "duration": 1702,
    "start_time": "2021-12-18T06:20:42.727Z"
   },
   {
    "duration": 1486,
    "start_time": "2021-12-18T06:20:44.431Z"
   },
   {
    "duration": 470,
    "start_time": "2021-12-18T06:20:45.918Z"
   },
   {
    "duration": 3,
    "start_time": "2021-12-18T06:20:46.390Z"
   },
   {
    "duration": 271,
    "start_time": "2021-12-18T06:20:46.395Z"
   },
   {
    "duration": 664,
    "start_time": "2021-12-18T06:20:46.669Z"
   },
   {
    "duration": 202,
    "start_time": "2021-12-18T06:20:47.335Z"
   },
   {
    "duration": 112,
    "start_time": "2021-12-18T06:20:47.538Z"
   },
   {
    "duration": 2,
    "start_time": "2021-12-18T06:20:47.652Z"
   },
   {
    "duration": 7,
    "start_time": "2021-12-18T06:20:47.656Z"
   },
   {
    "duration": 4,
    "start_time": "2021-12-18T06:20:47.665Z"
   },
   {
    "duration": 6,
    "start_time": "2021-12-18T06:20:47.670Z"
   },
   {
    "duration": 16,
    "start_time": "2021-12-18T06:20:47.678Z"
   },
   {
    "duration": 1695,
    "start_time": "2021-12-18T06:20:47.695Z"
   },
   {
    "duration": 11525,
    "start_time": "2021-12-18T06:20:49.392Z"
   },
   {
    "duration": 1434,
    "start_time": "2021-12-18T06:21:00.919Z"
   },
   {
    "duration": 60213,
    "start_time": "2021-12-18T06:21:02.355Z"
   },
   {
    "duration": 32667,
    "start_time": "2021-12-18T06:22:02.570Z"
   },
   {
    "duration": 11389,
    "start_time": "2021-12-18T06:22:35.240Z"
   },
   {
    "duration": 9,
    "start_time": "2021-12-18T22:58:52.418Z"
   },
   {
    "duration": 1123,
    "start_time": "2021-12-18T22:58:52.429Z"
   },
   {
    "duration": 2,
    "start_time": "2021-12-18T22:58:53.554Z"
   },
   {
    "duration": 7,
    "start_time": "2021-12-18T22:58:53.558Z"
   },
   {
    "duration": 5493,
    "start_time": "2021-12-18T22:58:53.566Z"
   },
   {
    "duration": 18,
    "start_time": "2021-12-18T22:58:59.060Z"
   },
   {
    "duration": 14,
    "start_time": "2021-12-18T22:58:59.079Z"
   },
   {
    "duration": 11,
    "start_time": "2021-12-18T22:58:59.094Z"
   },
   {
    "duration": 12,
    "start_time": "2021-12-18T22:58:59.107Z"
   },
   {
    "duration": 9,
    "start_time": "2021-12-18T22:58:59.122Z"
   },
   {
    "duration": 15,
    "start_time": "2021-12-18T22:58:59.133Z"
   },
   {
    "duration": 52,
    "start_time": "2021-12-18T22:58:59.150Z"
   },
   {
    "duration": 19,
    "start_time": "2021-12-18T22:58:59.204Z"
   },
   {
    "duration": 5,
    "start_time": "2021-12-18T22:58:59.225Z"
   },
   {
    "duration": 4,
    "start_time": "2021-12-18T22:58:59.232Z"
   },
   {
    "duration": 4,
    "start_time": "2021-12-18T22:58:59.238Z"
   },
   {
    "duration": 5,
    "start_time": "2021-12-18T22:58:59.243Z"
   },
   {
    "duration": 47,
    "start_time": "2021-12-18T22:58:59.250Z"
   },
   {
    "duration": 6,
    "start_time": "2021-12-18T22:58:59.299Z"
   },
   {
    "duration": 32,
    "start_time": "2021-12-18T22:58:59.306Z"
   },
   {
    "duration": 8,
    "start_time": "2021-12-18T22:58:59.340Z"
   },
   {
    "duration": 1984,
    "start_time": "2021-12-18T22:58:59.349Z"
   },
   {
    "duration": 548,
    "start_time": "2021-12-18T22:59:01.335Z"
   },
   {
    "duration": 8,
    "start_time": "2021-12-18T22:59:01.885Z"
   },
   {
    "duration": 333,
    "start_time": "2021-12-18T22:59:01.894Z"
   },
   {
    "duration": 696,
    "start_time": "2021-12-18T22:59:02.229Z"
   },
   {
    "duration": 214,
    "start_time": "2021-12-18T22:59:02.928Z"
   },
   {
    "duration": 131,
    "start_time": "2021-12-18T22:59:03.144Z"
   },
   {
    "duration": 14,
    "start_time": "2021-12-18T22:59:03.277Z"
   },
   {
    "duration": 3,
    "start_time": "2021-12-18T22:59:03.293Z"
   },
   {
    "duration": 5,
    "start_time": "2021-12-18T22:59:03.297Z"
   },
   {
    "duration": 265,
    "start_time": "2021-12-18T22:59:03.304Z"
   },
   {
    "duration": -242,
    "start_time": "2021-12-18T22:59:03.813Z"
   },
   {
    "duration": -247,
    "start_time": "2021-12-18T22:59:03.819Z"
   },
   {
    "duration": -250,
    "start_time": "2021-12-18T22:59:03.823Z"
   },
   {
    "duration": -257,
    "start_time": "2021-12-18T22:59:03.831Z"
   },
   {
    "duration": -260,
    "start_time": "2021-12-18T22:59:03.835Z"
   },
   {
    "duration": -262,
    "start_time": "2021-12-18T22:59:03.838Z"
   },
   {
    "duration": 9,
    "start_time": "2021-12-18T22:59:12.632Z"
   },
   {
    "duration": 1107,
    "start_time": "2021-12-18T22:59:12.642Z"
   },
   {
    "duration": 3,
    "start_time": "2021-12-18T22:59:13.751Z"
   },
   {
    "duration": 7,
    "start_time": "2021-12-18T22:59:13.756Z"
   },
   {
    "duration": 3633,
    "start_time": "2021-12-18T22:59:13.765Z"
   },
   {
    "duration": 17,
    "start_time": "2021-12-18T22:59:17.399Z"
   },
   {
    "duration": 5,
    "start_time": "2021-12-18T22:59:17.418Z"
   },
   {
    "duration": 10,
    "start_time": "2021-12-18T22:59:17.425Z"
   },
   {
    "duration": 10,
    "start_time": "2021-12-18T22:59:17.437Z"
   },
   {
    "duration": 42,
    "start_time": "2021-12-18T22:59:17.449Z"
   },
   {
    "duration": 15,
    "start_time": "2021-12-18T22:59:17.494Z"
   },
   {
    "duration": 16,
    "start_time": "2021-12-18T22:59:17.511Z"
   },
   {
    "duration": 18,
    "start_time": "2021-12-18T22:59:17.529Z"
   },
   {
    "duration": 4,
    "start_time": "2021-12-18T22:59:17.549Z"
   },
   {
    "duration": 39,
    "start_time": "2021-12-18T22:59:17.555Z"
   },
   {
    "duration": 5,
    "start_time": "2021-12-18T22:59:17.596Z"
   },
   {
    "duration": 5,
    "start_time": "2021-12-18T22:59:17.602Z"
   },
   {
    "duration": 17,
    "start_time": "2021-12-18T22:59:17.608Z"
   },
   {
    "duration": 4,
    "start_time": "2021-12-18T22:59:17.626Z"
   },
   {
    "duration": 63,
    "start_time": "2021-12-18T22:59:17.632Z"
   },
   {
    "duration": 7,
    "start_time": "2021-12-18T22:59:17.696Z"
   },
   {
    "duration": 1876,
    "start_time": "2021-12-18T22:59:17.705Z"
   },
   {
    "duration": 488,
    "start_time": "2021-12-18T22:59:19.582Z"
   },
   {
    "duration": 4,
    "start_time": "2021-12-18T22:59:20.072Z"
   },
   {
    "duration": 316,
    "start_time": "2021-12-18T22:59:20.077Z"
   },
   {
    "duration": 696,
    "start_time": "2021-12-18T22:59:20.395Z"
   },
   {
    "duration": 221,
    "start_time": "2021-12-18T22:59:21.094Z"
   },
   {
    "duration": 127,
    "start_time": "2021-12-18T22:59:21.317Z"
   },
   {
    "duration": 3,
    "start_time": "2021-12-18T22:59:21.446Z"
   },
   {
    "duration": 5,
    "start_time": "2021-12-18T22:59:21.451Z"
   },
   {
    "duration": 5,
    "start_time": "2021-12-18T22:59:21.457Z"
   },
   {
    "duration": 5,
    "start_time": "2021-12-18T22:59:21.464Z"
   },
   {
    "duration": 30,
    "start_time": "2021-12-18T22:59:21.471Z"
   },
   {
    "duration": 1893,
    "start_time": "2021-12-18T22:59:21.503Z"
   },
   {
    "duration": 11961,
    "start_time": "2021-12-18T22:59:23.398Z"
   },
   {
    "duration": 2153,
    "start_time": "2021-12-18T22:59:35.360Z"
   },
   {
    "duration": 63185,
    "start_time": "2021-12-18T22:59:37.514Z"
   },
   {
    "duration": 35364,
    "start_time": "2021-12-18T23:00:40.700Z"
   },
   {
    "duration": 315,
    "start_time": "2021-12-22T02:29:08.344Z"
   },
   {
    "duration": 13,
    "start_time": "2021-12-22T02:29:16.303Z"
   },
   {
    "duration": 1470,
    "start_time": "2021-12-22T02:29:16.458Z"
   },
   {
    "duration": 3,
    "start_time": "2021-12-22T02:29:17.931Z"
   },
   {
    "duration": 20,
    "start_time": "2021-12-22T02:29:17.937Z"
   },
   {
    "duration": 8215,
    "start_time": "2021-12-22T02:29:17.960Z"
   },
   {
    "duration": 28,
    "start_time": "2021-12-22T02:29:26.177Z"
   },
   {
    "duration": 21,
    "start_time": "2021-12-22T02:29:26.208Z"
   },
   {
    "duration": 24,
    "start_time": "2021-12-22T02:29:26.232Z"
   },
   {
    "duration": 15,
    "start_time": "2021-12-22T02:29:26.259Z"
   },
   {
    "duration": 52,
    "start_time": "2021-12-22T02:29:26.280Z"
   },
   {
    "duration": 23,
    "start_time": "2021-12-22T02:29:26.336Z"
   },
   {
    "duration": 25,
    "start_time": "2021-12-22T02:29:26.361Z"
   },
   {
    "duration": 51,
    "start_time": "2021-12-22T02:29:26.388Z"
   },
   {
    "duration": 6,
    "start_time": "2021-12-22T02:29:26.441Z"
   },
   {
    "duration": 8,
    "start_time": "2021-12-22T02:29:26.450Z"
   },
   {
    "duration": 6,
    "start_time": "2021-12-22T02:29:26.460Z"
   },
   {
    "duration": 6,
    "start_time": "2021-12-22T02:29:26.468Z"
   },
   {
    "duration": 21,
    "start_time": "2021-12-22T02:29:26.523Z"
   },
   {
    "duration": 8,
    "start_time": "2021-12-22T02:29:26.547Z"
   },
   {
    "duration": 71,
    "start_time": "2021-12-22T02:29:26.558Z"
   },
   {
    "duration": 12,
    "start_time": "2021-12-22T02:29:26.632Z"
   },
   {
    "duration": 2732,
    "start_time": "2021-12-22T02:29:26.647Z"
   },
   {
    "duration": 714,
    "start_time": "2021-12-22T02:29:29.382Z"
   },
   {
    "duration": 7,
    "start_time": "2021-12-22T02:29:30.099Z"
   },
   {
    "duration": 485,
    "start_time": "2021-12-22T02:29:30.124Z"
   },
   {
    "duration": 1083,
    "start_time": "2021-12-22T02:29:30.612Z"
   },
   {
    "duration": 334,
    "start_time": "2021-12-22T02:29:31.699Z"
   },
   {
    "duration": 201,
    "start_time": "2021-12-22T02:29:32.040Z"
   },
   {
    "duration": 6,
    "start_time": "2021-12-22T02:29:32.245Z"
   },
   {
    "duration": 8,
    "start_time": "2021-12-22T02:29:32.253Z"
   },
   {
    "duration": 7,
    "start_time": "2021-12-22T02:29:32.263Z"
   },
   {
    "duration": 19,
    "start_time": "2021-12-22T02:29:32.273Z"
   },
   {
    "duration": 37,
    "start_time": "2021-12-22T02:29:32.294Z"
   },
   {
    "duration": 1796,
    "start_time": "2021-12-22T02:29:32.334Z"
   },
   {
    "duration": 14423,
    "start_time": "2021-12-22T02:29:34.133Z"
   },
   {
    "duration": 2513,
    "start_time": "2021-12-22T02:29:48.558Z"
   },
   {
    "duration": 77651,
    "start_time": "2021-12-22T02:29:51.073Z"
   },
   {
    "duration": 42472,
    "start_time": "2021-12-22T02:31:08.727Z"
   },
   {
    "duration": 821,
    "start_time": "2021-12-22T02:31:51.201Z"
   },
   {
    "duration": 350,
    "start_time": "2021-12-22T18:32:11.118Z"
   },
   {
    "duration": 13,
    "start_time": "2021-12-22T18:32:20.046Z"
   },
   {
    "duration": 1631,
    "start_time": "2021-12-22T18:32:20.062Z"
   },
   {
    "duration": 4,
    "start_time": "2021-12-22T18:32:21.696Z"
   },
   {
    "duration": 11,
    "start_time": "2021-12-22T18:32:21.703Z"
   },
   {
    "duration": 3003,
    "start_time": "2021-12-22T18:32:21.717Z"
   },
   {
    "duration": 27,
    "start_time": "2021-12-22T18:32:24.722Z"
   },
   {
    "duration": 8,
    "start_time": "2021-12-22T18:32:24.763Z"
   },
   {
    "duration": 12,
    "start_time": "2021-12-22T18:32:24.775Z"
   },
   {
    "duration": 16,
    "start_time": "2021-12-22T18:32:24.792Z"
   },
   {
    "duration": 58,
    "start_time": "2021-12-22T18:32:24.811Z"
   },
   {
    "duration": 25,
    "start_time": "2021-12-22T18:32:24.872Z"
   },
   {
    "duration": 27,
    "start_time": "2021-12-22T18:32:24.900Z"
   },
   {
    "duration": 27,
    "start_time": "2021-12-22T18:32:24.962Z"
   },
   {
    "duration": 7,
    "start_time": "2021-12-22T18:32:24.992Z"
   },
   {
    "duration": 8,
    "start_time": "2021-12-22T18:32:25.002Z"
   },
   {
    "duration": 51,
    "start_time": "2021-12-22T18:32:25.013Z"
   },
   {
    "duration": 9,
    "start_time": "2021-12-22T18:32:25.067Z"
   },
   {
    "duration": 22,
    "start_time": "2021-12-22T18:32:25.079Z"
   },
   {
    "duration": 7,
    "start_time": "2021-12-22T18:32:25.103Z"
   },
   {
    "duration": 74,
    "start_time": "2021-12-22T18:32:25.112Z"
   },
   {
    "duration": 11,
    "start_time": "2021-12-22T18:32:25.188Z"
   },
   {
    "duration": 3202,
    "start_time": "2021-12-22T18:32:25.203Z"
   },
   {
    "duration": 734,
    "start_time": "2021-12-22T18:32:28.410Z"
   },
   {
    "duration": 16,
    "start_time": "2021-12-22T18:32:29.148Z"
   },
   {
    "duration": 507,
    "start_time": "2021-12-22T18:32:29.167Z"
   },
   {
    "duration": 1159,
    "start_time": "2021-12-22T18:32:29.677Z"
   },
   {
    "duration": 352,
    "start_time": "2021-12-22T18:32:30.838Z"
   },
   {
    "duration": 207,
    "start_time": "2021-12-22T18:32:31.192Z"
   },
   {
    "duration": 4,
    "start_time": "2021-12-22T18:32:31.401Z"
   },
   {
    "duration": 15,
    "start_time": "2021-12-22T18:32:31.408Z"
   },
   {
    "duration": 19,
    "start_time": "2021-12-22T18:32:31.426Z"
   },
   {
    "duration": 13,
    "start_time": "2021-12-22T18:32:31.448Z"
   },
   {
    "duration": 24,
    "start_time": "2021-12-22T18:32:31.464Z"
   },
   {
    "duration": 1973,
    "start_time": "2021-12-22T18:32:31.490Z"
   },
   {
    "duration": 16616,
    "start_time": "2021-12-22T18:32:33.467Z"
   },
   {
    "duration": 2797,
    "start_time": "2021-12-22T18:32:50.085Z"
   },
   {
    "duration": 85900,
    "start_time": "2021-12-22T18:32:52.884Z"
   },
   {
    "duration": 46884,
    "start_time": "2021-12-22T18:34:18.787Z"
   },
   {
    "duration": 441,
    "start_time": "2021-12-22T18:35:05.674Z"
   },
   {
    "duration": 406,
    "start_time": "2021-12-22T18:37:20.054Z"
   },
   {
    "duration": 331,
    "start_time": "2021-12-22T18:37:52.328Z"
   },
   {
    "duration": 137,
    "start_time": "2021-12-22T18:39:57.729Z"
   },
   {
    "duration": 296,
    "start_time": "2021-12-22T18:40:08.375Z"
   },
   {
    "duration": 14,
    "start_time": "2021-12-22T18:40:16.892Z"
   },
   {
    "duration": 1589,
    "start_time": "2021-12-22T18:40:16.909Z"
   },
   {
    "duration": 4,
    "start_time": "2021-12-22T18:40:18.501Z"
   },
   {
    "duration": 14,
    "start_time": "2021-12-22T18:40:18.508Z"
   },
   {
    "duration": 2394,
    "start_time": "2021-12-22T18:40:18.525Z"
   },
   {
    "duration": 41,
    "start_time": "2021-12-22T18:40:20.922Z"
   },
   {
    "duration": 9,
    "start_time": "2021-12-22T18:40:20.966Z"
   },
   {
    "duration": 12,
    "start_time": "2021-12-22T18:40:20.978Z"
   },
   {
    "duration": 15,
    "start_time": "2021-12-22T18:40:20.993Z"
   },
   {
    "duration": 54,
    "start_time": "2021-12-22T18:40:21.010Z"
   },
   {
    "duration": 24,
    "start_time": "2021-12-22T18:40:21.068Z"
   },
   {
    "duration": 26,
    "start_time": "2021-12-22T18:40:21.095Z"
   },
   {
    "duration": 58,
    "start_time": "2021-12-22T18:40:21.123Z"
   },
   {
    "duration": 6,
    "start_time": "2021-12-22T18:40:21.183Z"
   },
   {
    "duration": 15,
    "start_time": "2021-12-22T18:40:21.192Z"
   },
   {
    "duration": 6,
    "start_time": "2021-12-22T18:40:21.210Z"
   },
   {
    "duration": 7,
    "start_time": "2021-12-22T18:40:21.218Z"
   },
   {
    "duration": 20,
    "start_time": "2021-12-22T18:40:21.262Z"
   },
   {
    "duration": 6,
    "start_time": "2021-12-22T18:40:21.287Z"
   },
   {
    "duration": 66,
    "start_time": "2021-12-22T18:40:21.296Z"
   },
   {
    "duration": 8,
    "start_time": "2021-12-22T18:40:21.365Z"
   },
   {
    "duration": 2990,
    "start_time": "2021-12-22T18:40:21.376Z"
   },
   {
    "duration": 786,
    "start_time": "2021-12-22T18:40:24.369Z"
   },
   {
    "duration": 10,
    "start_time": "2021-12-22T18:40:25.157Z"
   },
   {
    "duration": 528,
    "start_time": "2021-12-22T18:40:25.169Z"
   },
   {
    "duration": 1230,
    "start_time": "2021-12-22T18:40:25.700Z"
   },
   {
    "duration": 351,
    "start_time": "2021-12-22T18:40:26.933Z"
   },
   {
    "duration": 214,
    "start_time": "2021-12-22T18:40:27.287Z"
   },
   {
    "duration": 4,
    "start_time": "2021-12-22T18:40:27.503Z"
   },
   {
    "duration": 5,
    "start_time": "2021-12-22T18:40:27.510Z"
   },
   {
    "duration": 5,
    "start_time": "2021-12-22T18:40:27.517Z"
   },
   {
    "duration": 6,
    "start_time": "2021-12-22T18:40:27.525Z"
   },
   {
    "duration": 11,
    "start_time": "2021-12-22T18:40:27.533Z"
   },
   {
    "duration": 2032,
    "start_time": "2021-12-22T18:40:27.547Z"
   },
   {
    "duration": 15748,
    "start_time": "2021-12-22T18:40:29.664Z"
   },
   {
    "duration": 2830,
    "start_time": "2021-12-22T18:40:45.415Z"
   },
   {
    "duration": 86311,
    "start_time": "2021-12-22T18:40:48.247Z"
   },
   {
    "duration": 49523,
    "start_time": "2021-12-22T18:42:14.560Z"
   },
   {
    "duration": 384,
    "start_time": "2021-12-22T18:43:04.086Z"
   },
   {
    "duration": 9,
    "start_time": "2021-12-23T22:41:02.058Z"
   },
   {
    "duration": 1252,
    "start_time": "2021-12-23T22:41:02.069Z"
   },
   {
    "duration": 3,
    "start_time": "2021-12-23T22:41:03.323Z"
   },
   {
    "duration": 8,
    "start_time": "2021-12-23T22:41:03.329Z"
   },
   {
    "duration": 2558,
    "start_time": "2021-12-23T22:41:03.338Z"
   },
   {
    "duration": 19,
    "start_time": "2021-12-23T22:41:05.897Z"
   },
   {
    "duration": 7,
    "start_time": "2021-12-23T22:41:05.918Z"
   },
   {
    "duration": 34,
    "start_time": "2021-12-23T22:41:05.929Z"
   },
   {
    "duration": 11,
    "start_time": "2021-12-23T22:41:05.966Z"
   },
   {
    "duration": 10,
    "start_time": "2021-12-23T22:41:05.979Z"
   },
   {
    "duration": 15,
    "start_time": "2021-12-23T22:41:05.991Z"
   },
   {
    "duration": 17,
    "start_time": "2021-12-23T22:41:06.008Z"
   },
   {
    "duration": 19,
    "start_time": "2021-12-23T22:41:06.061Z"
   },
   {
    "duration": 9,
    "start_time": "2021-12-23T22:41:06.082Z"
   },
   {
    "duration": 8,
    "start_time": "2021-12-23T22:41:06.093Z"
   },
   {
    "duration": 4,
    "start_time": "2021-12-23T22:41:06.102Z"
   },
   {
    "duration": 6,
    "start_time": "2021-12-23T22:41:06.108Z"
   },
   {
    "duration": 16,
    "start_time": "2021-12-23T22:41:06.115Z"
   },
   {
    "duration": 31,
    "start_time": "2021-12-23T22:41:06.132Z"
   },
   {
    "duration": 26,
    "start_time": "2021-12-23T22:41:06.164Z"
   },
   {
    "duration": 6,
    "start_time": "2021-12-23T22:41:06.192Z"
   },
   {
    "duration": 1833,
    "start_time": "2021-12-23T22:41:06.200Z"
   },
   {
    "duration": 476,
    "start_time": "2021-12-23T22:41:08.037Z"
   },
   {
    "duration": 4,
    "start_time": "2021-12-23T22:41:08.515Z"
   },
   {
    "duration": 287,
    "start_time": "2021-12-23T22:41:08.521Z"
   },
   {
    "duration": 634,
    "start_time": "2021-12-23T22:41:08.810Z"
   },
   {
    "duration": 206,
    "start_time": "2021-12-23T22:41:09.445Z"
   },
   {
    "duration": 115,
    "start_time": "2021-12-23T22:41:09.652Z"
   },
   {
    "duration": 3,
    "start_time": "2021-12-23T22:41:09.769Z"
   },
   {
    "duration": 5,
    "start_time": "2021-12-23T22:41:09.773Z"
   },
   {
    "duration": 6,
    "start_time": "2021-12-23T22:41:09.780Z"
   },
   {
    "duration": 4,
    "start_time": "2021-12-23T22:41:09.788Z"
   },
   {
    "duration": 11,
    "start_time": "2021-12-23T22:41:09.793Z"
   },
   {
    "duration": 1756,
    "start_time": "2021-12-23T22:41:09.806Z"
   },
   {
    "duration": 12182,
    "start_time": "2021-12-23T22:41:11.564Z"
   },
   {
    "duration": 2086,
    "start_time": "2021-12-23T22:41:23.748Z"
   },
   {
    "duration": 64527,
    "start_time": "2021-12-23T22:41:25.836Z"
   },
   {
    "duration": 35397,
    "start_time": "2021-12-23T22:42:30.365Z"
   },
   {
    "duration": 200,
    "start_time": "2021-12-23T22:43:05.764Z"
   },
   {
    "duration": 8,
    "start_time": "2021-12-23T23:19:15.825Z"
   },
   {
    "duration": 1182,
    "start_time": "2021-12-23T23:19:15.835Z"
   },
   {
    "duration": 3,
    "start_time": "2021-12-23T23:19:17.018Z"
   },
   {
    "duration": 7,
    "start_time": "2021-12-23T23:19:17.023Z"
   },
   {
    "duration": 2395,
    "start_time": "2021-12-23T23:19:17.031Z"
   },
   {
    "duration": 16,
    "start_time": "2021-12-23T23:19:19.428Z"
   },
   {
    "duration": 15,
    "start_time": "2021-12-23T23:19:19.446Z"
   },
   {
    "duration": 14,
    "start_time": "2021-12-23T23:19:19.463Z"
   },
   {
    "duration": 11,
    "start_time": "2021-12-23T23:19:19.480Z"
   },
   {
    "duration": 9,
    "start_time": "2021-12-23T23:19:19.493Z"
   },
   {
    "duration": 15,
    "start_time": "2021-12-23T23:19:19.503Z"
   },
   {
    "duration": 14,
    "start_time": "2021-12-23T23:19:19.520Z"
   },
   {
    "duration": 41,
    "start_time": "2021-12-23T23:19:19.536Z"
   },
   {
    "duration": 4,
    "start_time": "2021-12-23T23:19:19.579Z"
   },
   {
    "duration": 5,
    "start_time": "2021-12-23T23:19:19.585Z"
   },
   {
    "duration": 4,
    "start_time": "2021-12-23T23:19:19.591Z"
   },
   {
    "duration": 6,
    "start_time": "2021-12-23T23:19:19.597Z"
   },
   {
    "duration": 17,
    "start_time": "2021-12-23T23:19:19.604Z"
   },
   {
    "duration": 4,
    "start_time": "2021-12-23T23:19:19.623Z"
   },
   {
    "duration": 50,
    "start_time": "2021-12-23T23:19:19.628Z"
   },
   {
    "duration": 7,
    "start_time": "2021-12-23T23:19:19.680Z"
   },
   {
    "duration": 1981,
    "start_time": "2021-12-23T23:19:19.688Z"
   },
   {
    "duration": 530,
    "start_time": "2021-12-23T23:19:21.671Z"
   },
   {
    "duration": 5,
    "start_time": "2021-12-23T23:19:22.203Z"
   },
   {
    "duration": 298,
    "start_time": "2021-12-23T23:19:22.210Z"
   },
   {
    "duration": 614,
    "start_time": "2021-12-23T23:19:22.510Z"
   },
   {
    "duration": 205,
    "start_time": "2021-12-23T23:19:23.127Z"
   },
   {
    "duration": 114,
    "start_time": "2021-12-23T23:19:23.334Z"
   },
   {
    "duration": 3,
    "start_time": "2021-12-23T23:19:23.449Z"
   },
   {
    "duration": 3,
    "start_time": "2021-12-23T23:19:23.460Z"
   },
   {
    "duration": 5,
    "start_time": "2021-12-23T23:19:23.464Z"
   },
   {
    "duration": 4,
    "start_time": "2021-12-23T23:19:23.471Z"
   },
   {
    "duration": 11,
    "start_time": "2021-12-23T23:19:23.476Z"
   },
   {
    "duration": 1578,
    "start_time": "2021-12-23T23:19:23.488Z"
   },
   {
    "duration": 11892,
    "start_time": "2021-12-23T23:19:25.068Z"
   },
   {
    "duration": 2077,
    "start_time": "2021-12-23T23:19:36.962Z"
   },
   {
    "duration": 62943,
    "start_time": "2021-12-23T23:19:39.040Z"
   },
   {
    "duration": 35256,
    "start_time": "2021-12-23T23:20:41.985Z"
   },
   {
    "duration": 709,
    "start_time": "2021-12-23T23:21:17.243Z"
   },
   {
    "duration": 14,
    "start_time": "2021-12-28T21:16:59.195Z"
   },
   {
    "duration": 2005,
    "start_time": "2021-12-28T21:16:59.344Z"
   },
   {
    "duration": 10,
    "start_time": "2021-12-28T21:17:01.352Z"
   },
   {
    "duration": 14,
    "start_time": "2021-12-28T21:17:01.372Z"
   },
   {
    "duration": 10941,
    "start_time": "2021-12-28T21:17:01.389Z"
   },
   {
    "duration": 35,
    "start_time": "2021-12-28T21:17:12.332Z"
   },
   {
    "duration": 9,
    "start_time": "2021-12-28T21:17:12.370Z"
   },
   {
    "duration": 15,
    "start_time": "2021-12-28T21:17:12.383Z"
   },
   {
    "duration": 15,
    "start_time": "2021-12-28T21:17:12.401Z"
   },
   {
    "duration": 57,
    "start_time": "2021-12-28T21:17:12.420Z"
   },
   {
    "duration": 25,
    "start_time": "2021-12-28T21:17:12.481Z"
   },
   {
    "duration": 66,
    "start_time": "2021-12-28T21:17:12.508Z"
   },
   {
    "duration": 30,
    "start_time": "2021-12-28T21:17:12.578Z"
   },
   {
    "duration": 6,
    "start_time": "2021-12-28T21:17:12.611Z"
   },
   {
    "duration": 40,
    "start_time": "2021-12-28T21:17:12.619Z"
   },
   {
    "duration": 10,
    "start_time": "2021-12-28T21:17:12.665Z"
   },
   {
    "duration": 6,
    "start_time": "2021-12-28T21:17:12.677Z"
   },
   {
    "duration": 23,
    "start_time": "2021-12-28T21:17:12.686Z"
   },
   {
    "duration": 48,
    "start_time": "2021-12-28T21:17:12.713Z"
   },
   {
    "duration": 35,
    "start_time": "2021-12-28T21:17:12.765Z"
   },
   {
    "duration": 11,
    "start_time": "2021-12-28T21:17:12.802Z"
   },
   {
    "duration": 3201,
    "start_time": "2021-12-28T21:17:12.817Z"
   },
   {
    "duration": 873,
    "start_time": "2021-12-28T21:17:16.021Z"
   },
   {
    "duration": 5,
    "start_time": "2021-12-28T21:17:16.898Z"
   },
   {
    "duration": 558,
    "start_time": "2021-12-28T21:17:16.906Z"
   },
   {
    "duration": 1268,
    "start_time": "2021-12-28T21:17:17.469Z"
   },
   {
    "duration": 386,
    "start_time": "2021-12-28T21:17:18.740Z"
   },
   {
    "duration": 213,
    "start_time": "2021-12-28T21:17:19.131Z"
   },
   {
    "duration": 12,
    "start_time": "2021-12-28T21:17:19.347Z"
   },
   {
    "duration": 6,
    "start_time": "2021-12-28T21:17:19.363Z"
   },
   {
    "duration": 6,
    "start_time": "2021-12-28T21:17:19.372Z"
   },
   {
    "duration": 7,
    "start_time": "2021-12-28T21:17:19.381Z"
   },
   {
    "duration": 71,
    "start_time": "2021-12-28T21:17:19.391Z"
   },
   {
    "duration": 2809,
    "start_time": "2021-12-28T21:17:19.465Z"
   },
   {
    "duration": 16688,
    "start_time": "2021-12-28T21:17:22.282Z"
   },
   {
    "duration": 2909,
    "start_time": "2021-12-28T21:17:38.974Z"
   },
   {
    "duration": 87616,
    "start_time": "2021-12-28T21:17:41.886Z"
   },
   {
    "duration": 48910,
    "start_time": "2021-12-28T21:19:09.505Z"
   },
   {
    "duration": 1483,
    "start_time": "2021-12-28T21:19:58.417Z"
   },
   {
    "duration": 22,
    "start_time": "2021-12-28T21:20:31.652Z"
   },
   {
    "duration": 2207,
    "start_time": "2021-12-28T21:20:31.678Z"
   },
   {
    "duration": 4,
    "start_time": "2021-12-28T21:20:33.888Z"
   },
   {
    "duration": 12,
    "start_time": "2021-12-28T21:20:33.894Z"
   },
   {
    "duration": 6467,
    "start_time": "2021-12-28T21:20:33.908Z"
   },
   {
    "duration": 43,
    "start_time": "2021-12-28T21:20:40.378Z"
   },
   {
    "duration": 13,
    "start_time": "2021-12-28T21:20:40.424Z"
   },
   {
    "duration": 18,
    "start_time": "2021-12-28T21:20:40.459Z"
   },
   {
    "duration": 36,
    "start_time": "2021-12-28T21:20:40.481Z"
   },
   {
    "duration": 44,
    "start_time": "2021-12-28T21:20:40.520Z"
   },
   {
    "duration": 26,
    "start_time": "2021-12-28T21:20:40.567Z"
   },
   {
    "duration": 25,
    "start_time": "2021-12-28T21:20:40.595Z"
   },
   {
    "duration": 70,
    "start_time": "2021-12-28T21:20:40.622Z"
   },
   {
    "duration": 6,
    "start_time": "2021-12-28T21:20:40.694Z"
   },
   {
    "duration": 12,
    "start_time": "2021-12-28T21:20:40.703Z"
   },
   {
    "duration": 13,
    "start_time": "2021-12-28T21:20:40.718Z"
   },
   {
    "duration": 6,
    "start_time": "2021-12-28T21:20:40.761Z"
   },
   {
    "duration": 43,
    "start_time": "2021-12-28T21:20:40.770Z"
   },
   {
    "duration": 8,
    "start_time": "2021-12-28T21:20:40.817Z"
   },
   {
    "duration": 63,
    "start_time": "2021-12-28T21:20:40.827Z"
   },
   {
    "duration": 11,
    "start_time": "2021-12-28T21:20:40.894Z"
   },
   {
    "duration": 4471,
    "start_time": "2021-12-28T21:20:40.907Z"
   },
   {
    "duration": 863,
    "start_time": "2021-12-28T21:20:45.387Z"
   },
   {
    "duration": 19,
    "start_time": "2021-12-28T21:20:46.260Z"
   },
   {
    "duration": 641,
    "start_time": "2021-12-28T21:20:46.282Z"
   },
   {
    "duration": 1204,
    "start_time": "2021-12-28T21:20:46.926Z"
   },
   {
    "duration": 386,
    "start_time": "2021-12-28T21:20:48.133Z"
   },
   {
    "duration": 249,
    "start_time": "2021-12-28T21:20:48.522Z"
   },
   {
    "duration": 8,
    "start_time": "2021-12-28T21:20:48.774Z"
   },
   {
    "duration": 21,
    "start_time": "2021-12-28T21:20:48.785Z"
   },
   {
    "duration": 6,
    "start_time": "2021-12-28T21:20:48.810Z"
   },
   {
    "duration": 6,
    "start_time": "2021-12-28T21:20:48.819Z"
   },
   {
    "duration": 53,
    "start_time": "2021-12-28T21:20:48.828Z"
   },
   {
    "duration": 3684,
    "start_time": "2021-12-28T21:20:48.884Z"
   },
   {
    "duration": 17955,
    "start_time": "2021-12-28T21:20:52.584Z"
   },
   {
    "duration": 3469,
    "start_time": "2021-12-28T21:21:10.543Z"
   },
   {
    "duration": 93167,
    "start_time": "2021-12-28T21:21:14.014Z"
   },
   {
    "duration": 53442,
    "start_time": "2021-12-28T21:22:47.183Z"
   },
   {
    "duration": 1268,
    "start_time": "2021-12-28T21:23:40.628Z"
   },
   {
    "duration": 9,
    "start_time": "2021-12-28T21:28:10.659Z"
   },
   {
    "duration": 417,
    "start_time": "2021-12-28T21:28:46.205Z"
   },
   {
    "duration": 14,
    "start_time": "2021-12-28T21:29:34.872Z"
   },
   {
    "duration": 397,
    "start_time": "2021-12-28T21:35:00.625Z"
   },
   {
    "duration": 8,
    "start_time": "2021-12-28T21:35:15.712Z"
   },
   {
    "duration": 8,
    "start_time": "2021-12-28T21:35:29.860Z"
   },
   {
    "duration": 948,
    "start_time": "2021-12-28T21:36:11.150Z"
   },
   {
    "duration": 483,
    "start_time": "2021-12-28T21:39:21.545Z"
   },
   {
    "duration": 678,
    "start_time": "2021-12-28T21:39:36.440Z"
   },
   {
    "duration": 12,
    "start_time": "2021-12-28T21:41:24.972Z"
   },
   {
    "duration": 370,
    "start_time": "2021-12-28T21:42:38.939Z"
   },
   {
    "duration": 14,
    "start_time": "2021-12-28T21:42:48.755Z"
   },
   {
    "duration": 88,
    "start_time": "2021-12-28T21:44:45.678Z"
   },
   {
    "duration": 17,
    "start_time": "2021-12-28T21:45:09.753Z"
   }
  ],
  "kernelspec": {
   "display_name": "Python 3 (ipykernel)",
   "language": "python",
   "name": "python3"
  },
  "language_info": {
   "codemirror_mode": {
    "name": "ipython",
    "version": 3
   },
   "file_extension": ".py",
   "mimetype": "text/x-python",
   "name": "python",
   "nbconvert_exporter": "python",
   "pygments_lexer": "ipython3",
   "version": "3.9.5"
  },
  "toc": {
   "base_numbering": 1,
   "nav_menu": {},
   "number_sections": true,
   "sideBar": true,
   "skip_h1_title": true,
   "title_cell": "Table of Contents",
   "title_sidebar": "Contents",
   "toc_cell": false,
   "toc_position": {},
   "toc_section_display": true,
   "toc_window_display": false
  }
 },
 "nbformat": 4,
 "nbformat_minor": 2
}
